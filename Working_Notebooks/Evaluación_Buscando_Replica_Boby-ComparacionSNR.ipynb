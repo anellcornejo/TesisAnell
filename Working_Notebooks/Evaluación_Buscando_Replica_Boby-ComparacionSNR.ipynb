{
 "cells": [
  {
   "cell_type": "code",
   "execution_count": 1,
   "metadata": {},
   "outputs": [
    {
     "name": "stderr",
     "output_type": "stream",
     "text": [
      "Using TensorFlow backend.\n"
     ]
    }
   ],
   "source": [
    "import tensorflow as tf\n",
    "from tensorflow import keras\n",
    "\n",
    "from keras.layers import Conv1D , Dropout , Flatten , MaxPooling1D, Dense, Input, BatchNormalization\n",
    "from keras.layers.core import Lambda\n",
    "from keras.models import Model , load_model\n",
    "\n",
    "from keras.callbacks import EarlyStopping, ModelCheckpoint, ReduceLROnPlateau\n",
    "\n",
    "import numpy as np\n",
    "import matplotlib.pyplot as plt\n",
    "import random\n",
    "import h5py\n",
    "from IPython.display import Image"
   ]
  },
  {
   "cell_type": "markdown",
   "metadata": {},
   "source": [
    "## Carga y distribución de datos"
   ]
  },
  {
   "cell_type": "code",
   "execution_count": 2,
   "metadata": {},
   "outputs": [],
   "source": [
    "# Cargamos los datos\n",
    "path_local_data = '/home/anell/Desktop/Bovy/AnellExercises/Fits_files'\n",
    "#path_local_data = '/home/bapanes/Research-Now/local/astronn-local/apo-gaia/'\n",
    "\n",
    "with h5py.File(f'{path_local_data}/apogeedr14_gaiadr2_with_spectrum_probando_rendimiento_2.h5','r') as F:  \n",
    "    parallax = np.array(F['parallax'])\n",
    "    parallax_error = np.array(F['parallax_err'])\n",
    "    spectra = np.array(F['spectra'])\n",
    "    Kmag = np.array(F['corrected_magnitude_K'])\n",
    "    bp_rp = np.array(F['bp_rp'])\n",
    "    Gmag = np.array(F['phot_g_mean_mag'])\n",
    "    teff = np.array(F['NN_teff'])\n",
    "    apogee_id = np.array(F['APOGEE_ID'])\n",
    "    snr = np.array(F['SNR'])\n",
    "    fe_h = np.array(F['Fe/H'])\n",
    "    path_spectra = np.array(F['Path_spectra'])"
   ]
  },
  {
   "cell_type": "code",
   "execution_count": 3,
   "metadata": {},
   "outputs": [
    {
     "data": {
      "text/plain": [
       "((60986,), (60986, 7514), (60986,))"
      ]
     },
     "execution_count": 3,
     "metadata": {},
     "output_type": "execute_result"
    }
   ],
   "source": [
    "parallax.shape , spectra.shape , Kmag.shape"
   ]
  },
  {
   "cell_type": "code",
   "execution_count": 4,
   "metadata": {},
   "outputs": [],
   "source": [
    "#Establecemos las variables que entrarán a la red y corregimos sus dimensiones\n",
    "X = np.expand_dims(spectra, axis = 2)\n",
    "Y = np.expand_dims(parallax, axis = 1)\n",
    "K_mag = np.expand_dims(Kmag, axis = 1)\n",
    "\n",
    "# Normalizamos Gmag , el color (G_bp - G_rp) y teff\n",
    "Gmag_std = np.std(Gmag)\n",
    "Gmag_mean = np.mean(Gmag)\n",
    "Gmag_norm = (Gmag - Gmag_mean) / Gmag_std\n",
    "\n",
    "bp_rp_std = np.std(bp_rp)\n",
    "bp_rp_mean = np.mean(bp_rp)\n",
    "bp_rp_norm = (bp_rp - bp_rp_mean) / bp_rp_std\n",
    "\n",
    "teff_std = np.std(teff)\n",
    "teff_mean = np.mean(teff)\n",
    "teff_norm = (teff - teff_mean) / teff_std\n",
    "\n",
    "G_mag = np.expand_dims(Gmag_norm, axis=1)\n",
    "Bp_Rp = np.expand_dims(bp_rp_norm, axis=1)\n",
    "Teff = np.expand_dims(teff_norm, axis=1)\n",
    "\n",
    "X_offset = np.concatenate((G_mag, Bp_Rp , Teff), axis = 1) "
   ]
  },
  {
   "cell_type": "code",
   "execution_count": 5,
   "metadata": {},
   "outputs": [
    {
     "name": "stdout",
     "output_type": "stream",
     "text": [
      "(60986, 7514, 1) (60986, 1) (60986, 1) (60986, 3)\n"
     ]
    }
   ],
   "source": [
    "print(X.shape , Y.shape, K_mag.shape, X_offset.shape)"
   ]
  },
  {
   "cell_type": "markdown",
   "metadata": {},
   "source": [
    "#### SNR cut"
   ]
  },
  {
   "cell_type": "code",
   "execution_count": 6,
   "metadata": {},
   "outputs": [],
   "source": [
    "high_snr_idx = []\n",
    "low_snr_idx = []\n",
    "\n",
    "for i in range(len(snr)):\n",
    "    if snr[i] >= 200:           \n",
    "        high_snr_idx.append(i)\n",
    "    else:\n",
    "        low_snr_idx.append(i)\n",
    "\n",
    "random.seed(10)\n",
    "random.shuffle(high_snr_idx)\n",
    "random.seed(60)\n",
    "random.shuffle(low_snr_idx)"
   ]
  },
  {
   "cell_type": "markdown",
   "metadata": {},
   "source": [
    "#### Estos valores pueden ser comparados con Bovy train-test separation, \n",
    "\n",
    "Apart from taht we should be more clear about data preparation and evaluation\n",
    "\n",
    "get consistent and repeatable accuracy using train and validation approach <br>\n",
    "undestand the process of validation (draft about probability_distributions) <br> \n",
    "check the precision on the test data using baseline separation <br>\n",
    "compute learning curve, following Fig 1. of Nguyen et. al.<br>\n",
    "try with percentual mse, such that low and high parallax values weight the same <br>\n",
    "\n",
    "initially we can consider SNR>200 for train-valid and SNR<200 for test <br>\n",
    "understand why it is possible to make this separation and hope for consistent results <br>\n",
    "\n",
    "compare to Bovy using this data separation, using global precision and learning curve<br>\n",
    "\n",
    "How well are we doing with respect to Bovy?"
   ]
  },
  {
   "cell_type": "code",
   "execution_count": null,
   "metadata": {},
   "outputs": [],
   "source": [
    "#Image(\"/home/bapanes/Research-Now/TesisAnell/Figures/learning_curve_genoma.png\")\n",
    "Image(\"learning_curve_genoma.png\")"
   ]
  },
  {
   "cell_type": "code",
   "execution_count": 8,
   "metadata": {},
   "outputs": [
    {
     "name": "stdout",
     "output_type": "stream",
     "text": [
      "SNR>200: 27721, else: 33265\n"
     ]
    }
   ],
   "source": [
    "print(\"SNR>200: %d, else: %d\"%(len(high_snr_idx), len(low_snr_idx)))"
   ]
  },
  {
   "cell_type": "markdown",
   "metadata": {},
   "source": [
    "### Diseño Experimental:\n",
    "\n",
    "Consideraré train (0.8) y valid (0.2)\n",
    "\n",
    "train_val_1 $\\rightarrow$  177 (train) + 44 (valid) = 221\n",
    "\n",
    "train_val_2 $\\rightarrow$  400 (train) + 100 (valid) = 500\n",
    "\n",
    "train_val_3 $\\rightarrow$  800 (train) + 200 (valid) = 1000\n",
    "\n",
    "train_val_4 $\\rightarrow$  2400 (train) + 600 (valid) = 3000\n",
    "\n",
    "train_val_5 $\\rightarrow$  6400 (train) + 1600 (valid) = 8000\n",
    "\n",
    "train_val_6 $\\rightarrow$  12000 (train) + 3000 (valid) = 15000\n",
    "\n",
    "train_val_7 $\\rightarrow$  22177 (train) + 5594 (valid) = 27771\n",
    "\n",
    "test $\\rightarrow$ 33265"
   ]
  },
  {
   "cell_type": "code",
   "execution_count": 9,
   "metadata": {},
   "outputs": [],
   "source": [
    "X_high_snr = X[high_snr_idx]\n",
    "Y_high_snr = Y[high_snr_idx]\n",
    "K_mag_high_snr = K_mag[high_snr_idx]\n",
    "X_offset_high_snr = X_offset[high_snr_idx]\n",
    "\n",
    "X_low_snr = X[low_snr_idx]\n",
    "Y_low_snr = Y[low_snr_idx]\n",
    "K_mag_low_snr = K_mag[low_snr_idx]\n",
    "X_offset_low_snr = X_offset[low_snr_idx]"
   ]
  },
  {
   "cell_type": "code",
   "execution_count": 10,
   "metadata": {},
   "outputs": [],
   "source": [
    "X_train_val_1 = X_high_snr[:221]\n",
    "Y_train_val_1 = Y_high_snr[:221]\n",
    "K_mag_train_val_1 = K_mag_high_snr[:221]\n",
    "X_offset_train_val_1 = X_offset_high_snr[:221]\n",
    "\n",
    "X_train_val_2 = X_high_snr[221:721]\n",
    "Y_train_val_2 = Y_high_snr[221:721]\n",
    "K_mag_train_val_2 = K_mag_high_snr[221:721]\n",
    "X_offset_train_val_2 = X_offset_high_snr[221:721]\n",
    "\n",
    "X_train_val_3 = X_high_snr[721:1721]\n",
    "Y_train_val_3 = Y_high_snr[721:1721]\n",
    "K_mag_train_val_3 = K_mag_high_snr[721:1721]\n",
    "X_offset_train_val_3 = X_offset_high_snr[721:1721]\n",
    "\n",
    "X_train_val_4 = X_high_snr[1721:4721]\n",
    "Y_train_val_4 = Y_high_snr[1721:4721]\n",
    "K_mag_train_val_4 = K_mag_high_snr[1721:4721]\n",
    "X_offset_train_val_4 = X_offset_high_snr[1721:4721]\n",
    "\n",
    "X_train_val_5 = X_high_snr[4721:12721]\n",
    "Y_train_val_5 = Y_high_snr[4721:12721]\n",
    "K_mag_train_val_5 = K_mag_high_snr[4721:12721]\n",
    "X_offset_train_val_5 = X_offset_high_snr[4721:12721]\n",
    "\n",
    "X_train_val_6 = X_high_snr[12721:]\n",
    "Y_train_val_6 = Y_high_snr[12721:]\n",
    "K_mag_train_val_6 = K_mag_high_snr[12721:]\n",
    "X_offset_train_val_6 = X_offset_high_snr[12721:]\n",
    "\n",
    "X_train_val_7 = X_high_snr\n",
    "Y_train_val_7 = Y_high_snr\n",
    "K_mag_train_val_7 = K_mag_high_snr\n",
    "X_offset_train_val_7 = X_offset_high_snr\n",
    "\n",
    "X_test = X_low_snr\n",
    "Y_test = Y_low_snr\n",
    "K_mag_test = K_mag_low_snr\n",
    "X_offset_test = X_offset_low_snr\n",
    "snr_test = snr[low_snr_idx]"
   ]
  },
  {
   "cell_type": "code",
   "execution_count": 11,
   "metadata": {},
   "outputs": [
    {
     "name": "stdout",
     "output_type": "stream",
     "text": [
      "(221, 1) (500, 1) (1000, 1) (3000, 1) (8000, 1) (15000, 1) (27721, 1) (33265, 1)\n"
     ]
    }
   ],
   "source": [
    "print(Y_train_val_1.shape , Y_train_val_2.shape , Y_train_val_3.shape, Y_train_val_4.shape , \n",
    "      Y_train_val_5.shape,Y_train_val_6.shape ,Y_train_val_7.shape , Y_test.shape)"
   ]
  },
  {
   "cell_type": "markdown",
   "metadata": {},
   "source": [
    "## Carga de modelos"
   ]
  },
  {
   "cell_type": "code",
   "execution_count": 12,
   "metadata": {},
   "outputs": [],
   "source": [
    "path_local_models = '/home/anell/Desktop/Bovy/AnellExercises/Good_Models/'\n",
    "\n",
    "#No consideraré los modelos 1 y 2 porque se entrenaron con muy pocos datos\n",
    "\n",
    "model_3 = load_model(f'{path_local_models}/Modelo_1_200epoch_D3_ReplicaBovy.h5',custom_objects={'tf': tf}) #1000\n",
    "model_4 = load_model(f'{path_local_models}/Modelo_1_200epoch_D4_ReplicaBovy.h5',custom_objects={'tf': tf}) #3000\n",
    "model_5 = load_model(f'{path_local_models}/Modelo_1_200epoch_D5_ReplicaBovy.h5',custom_objects={'tf': tf}) #8000\n",
    "model_6 = load_model(f'{path_local_models}/Modelo_1_200epoch_D6_ReplicaBovy.h5',custom_objects={'tf': tf}) #15000\n",
    "model_7 = load_model(f'{path_local_models}/Modelo_1_200epoch_D7_ReplicaBovy.h5',custom_objects={'tf': tf}) #27771"
   ]
  },
  {
   "cell_type": "markdown",
   "metadata": {},
   "source": [
    "### Evaluación inicial"
   ]
  },
  {
   "cell_type": "code",
   "execution_count": 64,
   "metadata": {},
   "outputs": [
    {
     "data": {
      "image/png": "[encoded data removed]",
      "text/plain": [
       "<Figure size 432x288 with 1 Axes>"
      ]
     },
     "metadata": {
      "needs_background": "light"
     },
     "output_type": "display_data"
    }
   ],
   "source": [
    "plt.scatter(Y_train_val_7, Y_train_hat, c=\"g\", alpha=0.5)\n",
    "\n",
    "plt.xlabel(\"target\")\n",
    "plt.ylabel(\"pred\")\n",
    "\n",
    "plt.ylim(0,100)\n",
    "plt.xlim(0,100)\n",
    "plt.show()"
   ]
  },
  {
   "cell_type": "markdown",
   "metadata": {},
   "source": [
    "### Curva de aprendizaje 1 (MSE vs tamaño set de entrenamiento)"
   ]
  },
  {
   "cell_type": "code",
   "execution_count": 42,
   "metadata": {},
   "outputs": [
    {
     "name": "stdout",
     "output_type": "stream",
     "text": [
      "33265/33265 [==============================] - 13s 389us/step\n",
      "33265/33265 [==============================] - 11s 336us/step\n",
      "33265/33265 [==============================] - 11s 338us/step\n",
      "33265/33265 [==============================] - 12s 351us/step\n",
      "33265/33265 [==============================] - 12s 357us/step\n"
     ]
    }
   ],
   "source": [
    "J_test_m3, mse_test_m3 = model_3.evaluate([X_test,K_mag_test,X_offset_test], Y_test)\n",
    "J_test_m4, mse_test_m4 = model_4.evaluate([X_test,K_mag_test,X_offset_test], Y_test)\n",
    "J_test_m5, mse_test_m5 = model_5.evaluate([X_test,K_mag_test,X_offset_test], Y_test)\n",
    "J_test_m6, mse_test_m6 = model_6.evaluate([X_test,K_mag_test,X_offset_test], Y_test)\n",
    "J_test_m7, mse_test_m7 = model_7.evaluate([X_test,K_mag_test,X_offset_test], Y_test)"
   ]
  },
  {
   "cell_type": "code",
   "execution_count": 44,
   "metadata": {},
   "outputs": [
    {
     "data": {
      "image/png": "[encoded data removed]",
      "text/plain": [
       "<Figure size 432x288 with 1 Axes>"
      ]
     },
     "metadata": {
      "needs_background": "light"
     },
     "output_type": "display_data"
    }
   ],
   "source": [
    "mse_test = [mse_test_m3,mse_test_m4,mse_test_m5,mse_test_m6, mse_test_m7]\n",
    "m_train = [int(0.8*len(Y_train_val_3)), int(0.8*len(Y_train_val_4)),int(0.8*len(Y_train_val_5)),\n",
    "           int(0.8*len(Y_train_val_6)),int(0.8*len(Y_train_val_7))]\n",
    "\n",
    "plt.plot(m_train, mse_test, \"xg-\", label = \"MSE set de testeo\")\n",
    "plt.ylabel(\"MSE\")\n",
    "plt.xlabel(\"Tamaño del set de entrenamiento\")\n",
    "plt.title(\"Curva de aprendizaje general\")\n",
    "plt.legend()\n",
    "plt.show()"
   ]
  },
  {
   "cell_type": "markdown",
   "metadata": {},
   "source": [
    "### Curva de aprendizaje 2 (MSE versus SNR)"
   ]
  },
  {
   "cell_type": "code",
   "execution_count": 20,
   "metadata": {},
   "outputs": [
    {
     "name": "stdout",
     "output_type": "stream",
     "text": [
      "7983 14842 10440\n"
     ]
    }
   ],
   "source": [
    "snr_0_100 = []\n",
    "snr_100_150 = []\n",
    "snr_150_200 = []\n",
    "\n",
    "for i in range(len(snr_test)):\n",
    "    if snr_test[i] <= 100:\n",
    "        snr_0_100.append(i)\n",
    "    elif 100 < snr_test[i] <= 150:\n",
    "        snr_100_150.append(i)\n",
    "    else:\n",
    "        snr_150_200.append(i)\n",
    "\n",
    "print(len(snr_0_100) , len(snr_100_150) , len(snr_150_200) )"
   ]
  },
  {
   "cell_type": "code",
   "execution_count": 21,
   "metadata": {},
   "outputs": [],
   "source": [
    "X_test_snr_0_100 = X_test[snr_0_100]\n",
    "Y_test_snr_0_100 = Y_test[snr_0_100]\n",
    "K_mag_test_snr_0_100 = K_mag_test[snr_0_100]\n",
    "X_offset_test_snr_0_100 = X_offset_test[snr_0_100]\n",
    "\n",
    "X_test_snr_100_150 = X_test[snr_100_150]\n",
    "Y_test_snr_100_150 = Y_test[snr_100_150]\n",
    "K_mag_test_snr_100_150 = K_mag_test[snr_100_150]\n",
    "X_offset_test_snr_100_150 = X_offset_test[snr_100_150]\n",
    "\n",
    "X_test_snr_150_200 = X_test[snr_150_200]\n",
    "Y_test_snr_150_200 = Y_test[snr_150_200]\n",
    "K_mag_test_snr_150_200 = K_mag_test[snr_150_200]\n",
    "X_offset_test_snr_150_200 = X_offset_test[snr_150_200]"
   ]
  },
  {
   "cell_type": "code",
   "execution_count": 22,
   "metadata": {},
   "outputs": [
    {
     "name": "stdout",
     "output_type": "stream",
     "text": [
      "(7983, 1) (14842, 1) (10440, 1)\n"
     ]
    }
   ],
   "source": [
    "print( Y_test_snr_0_100.shape , Y_test_snr_100_150.shape , Y_test_snr_150_200.shape)"
   ]
  },
  {
   "cell_type": "code",
   "execution_count": 25,
   "metadata": {},
   "outputs": [
    {
     "name": "stdout",
     "output_type": "stream",
     "text": [
      "7983/7983 [==============================] - 3s 344us/step\n",
      "14842/14842 [==============================] - 5s 341us/step\n",
      "10440/10440 [==============================] - 4s 346us/step\n",
      "mse's modelo 7:  [1513.07275390625, 19.262081146240234, 0.16720686852931976]\n"
     ]
    }
   ],
   "source": [
    "#Evaluación modelo 7\n",
    "J_test_m7_snr_0_100, mse_test_m7_snr_0_100 = model_7.evaluate([X_test_snr_0_100,K_mag_test_snr_0_100,X_offset_test_snr_0_100], Y_test_snr_0_100)\n",
    "J_test_m7_snr_100_150, mse_test_m7_snr_100_150 = model_7.evaluate([X_test_snr_100_150,K_mag_test_snr_100_150,X_offset_test_snr_100_150], Y_test_snr_100_150)\n",
    "J_test_m7_snr_150_200, mse_test_m7_snr_150_200 = model_7.evaluate([X_test_snr_150_200,K_mag_test_snr_150_200,X_offset_test_snr_150_200], Y_test_snr_150_200)\n",
    "\n",
    "mse_test_m7_snr = [ mse_test_m7_snr_0_100 , mse_test_m7_snr_100_150 , mse_test_m7_snr_150_200]\n",
    "\n",
    "print(\"mse's modelo 7: \", mse_test_m7_snr)   #mientras más cercano esté el SNR a 200, más confiable será la predicción"
   ]
  },
  {
   "cell_type": "code",
   "execution_count": 26,
   "metadata": {},
   "outputs": [
    {
     "name": "stdout",
     "output_type": "stream",
     "text": [
      "7983/7983 [==============================] - 3s 378us/step\n",
      "14842/14842 [==============================] - 5s 362us/step\n",
      "10440/10440 [==============================] - 4s 343us/step\n",
      "mse's modelo 6:  [3329.32421875, 21.355886459350586, 0.19424039125442505]\n"
     ]
    }
   ],
   "source": [
    "J_test_m6_snr_0_100, mse_test_m6_snr_0_100 = model_6.evaluate([X_test_snr_0_100,K_mag_test_snr_0_100,X_offset_test_snr_0_100], Y_test_snr_0_100)\n",
    "J_test_m6_snr_100_150, mse_test_m6_snr_100_150 = model_6.evaluate([X_test_snr_100_150,K_mag_test_snr_100_150,X_offset_test_snr_100_150], Y_test_snr_100_150)\n",
    "J_test_m6_snr_150_200, mse_test_m6_snr_150_200 = model_6.evaluate([X_test_snr_150_200,K_mag_test_snr_150_200,X_offset_test_snr_150_200], Y_test_snr_150_200)\n",
    "\n",
    "mse_test_m6_snr = [mse_test_m6_snr_0_100 , mse_test_m6_snr_100_150 , mse_test_m6_snr_150_200]\n",
    "\n",
    "print(\"mse's modelo 6: \", mse_test_m6_snr) "
   ]
  },
  {
   "cell_type": "code",
   "execution_count": 27,
   "metadata": {},
   "outputs": [
    {
     "name": "stdout",
     "output_type": "stream",
     "text": [
      "7983/7983 [==============================] - 3s 361us/step\n",
      "14842/14842 [==============================] - 5s 350us/step\n",
      "10440/10440 [==============================] - 4s 348us/step\n",
      "mse's modelo 5:  [6183.1748046875, 123.76571655273438, 0.2950790524482727]\n"
     ]
    }
   ],
   "source": [
    "J_test_m5_snr_0_100, mse_test_m5_snr_0_100 = model_5.evaluate([X_test_snr_0_100,K_mag_test_snr_0_100,X_offset_test_snr_0_100], Y_test_snr_0_100)\n",
    "J_test_m5_snr_100_150, mse_test_m5_snr_100_150 = model_5.evaluate([X_test_snr_100_150,K_mag_test_snr_100_150,X_offset_test_snr_100_150], Y_test_snr_100_150)\n",
    "J_test_m5_snr_150_200, mse_test_m5_snr_150_200 = model_5.evaluate([X_test_snr_150_200,K_mag_test_snr_150_200,X_offset_test_snr_150_200], Y_test_snr_150_200)\n",
    "\n",
    "mse_test_m5_snr = [ mse_test_m5_snr_0_100 , mse_test_m5_snr_100_150 , mse_test_m5_snr_150_200]\n",
    "\n",
    "print(\"mse's modelo 5: \", mse_test_m5_snr) "
   ]
  },
  {
   "cell_type": "code",
   "execution_count": 28,
   "metadata": {},
   "outputs": [
    {
     "name": "stdout",
     "output_type": "stream",
     "text": [
      "7983/7983 [==============================] - 3s 369us/step\n",
      "14842/14842 [==============================] - 5s 348us/step\n",
      "10440/10440 [==============================] - 4s 345us/step\n",
      "mse's modelo 4:  [7582.568359375, 173.55438232421875, 0.44381800293922424]\n"
     ]
    }
   ],
   "source": [
    "J_test_m4_snr_0_100, mse_test_m4_snr_0_100 = model_4.evaluate([X_test_snr_0_100,K_mag_test_snr_0_100,X_offset_test_snr_0_100], Y_test_snr_0_100)\n",
    "J_test_m4_snr_100_150, mse_test_m4_snr_100_150 = model_4.evaluate([X_test_snr_100_150,K_mag_test_snr_100_150,X_offset_test_snr_100_150], Y_test_snr_100_150)\n",
    "J_test_m4_snr_150_200, mse_test_m4_snr_150_200 = model_4.evaluate([X_test_snr_150_200,K_mag_test_snr_150_200,X_offset_test_snr_150_200], Y_test_snr_150_200)\n",
    "\n",
    "mse_test_m4_snr = [ mse_test_m4_snr_0_100 , mse_test_m4_snr_100_150 , mse_test_m4_snr_150_200]\n",
    "print(\"mse's modelo 4: \", mse_test_m4_snr) "
   ]
  },
  {
   "cell_type": "code",
   "execution_count": 29,
   "metadata": {},
   "outputs": [
    {
     "name": "stdout",
     "output_type": "stream",
     "text": [
      "7983/7983 [==============================] - 3s 404us/step\n",
      "14842/14842 [==============================] - 5s 344us/step\n",
      "10440/10440 [==============================] - 4s 346us/step\n",
      "mse's modelo 3:  [10772.1669921875, 292.832275390625, 0.8257049918174744]\n"
     ]
    }
   ],
   "source": [
    "J_test_m3_snr_0_100, mse_test_m3_snr_0_100 = model_3.evaluate([X_test_snr_0_100,K_mag_test_snr_0_100,X_offset_test_snr_0_100], Y_test_snr_0_100)\n",
    "J_test_m3_snr_100_150, mse_test_m3_snr_100_150 = model_3.evaluate([X_test_snr_100_150,K_mag_test_snr_100_150,X_offset_test_snr_100_150], Y_test_snr_100_150)\n",
    "J_test_m3_snr_150_200, mse_test_m3_snr_150_200 = model_3.evaluate([X_test_snr_150_200,K_mag_test_snr_150_200,X_offset_test_snr_150_200], Y_test_snr_150_200)\n",
    "\n",
    "mse_test_m3_snr = [ mse_test_m3_snr_0_100 , mse_test_m3_snr_100_150 , mse_test_m3_snr_150_200]\n",
    "print(\"mse's modelo 3: \", mse_test_m3_snr) "
   ]
  },
  {
   "cell_type": "code",
   "execution_count": 30,
   "metadata": {},
   "outputs": [
    {
     "data": {
      "image/png": "[encoded data removed]",
      "text/plain": [
       "<Figure size 432x288 with 1 Axes>"
      ]
     },
     "metadata": {
      "needs_background": "light"
     },
     "output_type": "display_data"
    }
   ],
   "source": [
    "snr_list = [50,125,175]\n",
    "\n",
    "plt.plot(snr_list, mse_test_m7_snr, \"og-\", label = \"Tamaño set entrenamiento: 27771\")   \n",
    "plt.plot(snr_list, mse_test_m6_snr, \"or-\", label = \"Tamaño set entrenamiento: 15000\")   \n",
    "plt.plot(snr_list, mse_test_m5_snr, \"ob-\", label = \"Tamaño set entrenamiento: 8000\")\n",
    "plt.plot(snr_list, mse_test_m4_snr, \"oy-\", label = \"Tamaño set entrenamiento: 3000\")\n",
    "plt.plot(snr_list, mse_test_m3_snr, \"om-\", label = \"Tamaño set entrenamiento: 1000\")\n",
    "\n",
    "plt.legend(loc= \"upper right\", bbox_to_anchor=(1.65, 1))\n",
    "plt.ylabel(\"MSE\")\n",
    "plt.xlabel(\"SNR Espectral\")\n",
    "plt.title(\"Curva de Aprendizaje\")\n",
    "plt.yscale(\"log\")\n",
    "plt.show()"
   ]
  },
  {
   "cell_type": "markdown",
   "metadata": {},
   "source": [
    "### TAREAS\n",
    "* Mejorar la presicion de la red \n",
    "\n",
    "        -> cambiar la función de costo (agregar incerteza de cada paralaje)\n",
    "        -> modificar la arquitectura de la red (quizá)\n",
    "        -> leer Bovy (por si hay algo más)\n",
    "        \n",
    "* Generar curva de aprendizaje con MAD"
   ]
  },
  {
   "cell_type": "markdown",
   "metadata": {},
   "source": [
    "### Curva de aprendizaje 3 (MAD versus SNR)"
   ]
  },
  {
   "cell_type": "code",
   "execution_count": 57,
   "metadata": {},
   "outputs": [],
   "source": [
    "def MAD_ABS(Y,Y_hat):\n",
    "    R_percent = np.abs(Y - Y_hat) / np.abs(Y)*100\n",
    "    s_mad = 1.4826 *np.median(np.abs(R_percent - np.median(R_percent)))\n",
    "    return s_mad"
   ]
  },
  {
   "cell_type": "code",
   "execution_count": 76,
   "metadata": {},
   "outputs": [],
   "source": [
    "def MAD(Y,Y_hat):  #USADA POR BOBY, astropy.stats.mad_std\n",
    "    R_percent = (Y - Y_hat) / Y *100\n",
    "    s_mad = 1.4826 * np.median(np.abs(R_percent - np.median(R_percent)))\n",
    "    return s_mad"
   ]
  },
  {
   "cell_type": "code",
   "execution_count": 78,
   "metadata": {},
   "outputs": [
    {
     "name": "stdout",
     "output_type": "stream",
     "text": [
      "mad's modelo 7:  [18.855832190239294, 14.19866360735569, 12.359717954256404]\n"
     ]
    }
   ],
   "source": [
    "Y_hat_m7_snr_0_100 = model_7.predict([X_test_snr_0_100,K_mag_test_snr_0_100,X_offset_test_snr_0_100])\n",
    "Y_hat_m7_snr_100_150 = model_7.predict([X_test_snr_100_150,K_mag_test_snr_100_150,X_offset_test_snr_100_150])\n",
    "Y_hat_m7_snr_150_200 = model_7.predict([X_test_snr_150_200,K_mag_test_snr_150_200,X_offset_test_snr_150_200])\n",
    "\n",
    "mad_m7_snr_0_100 = MAD(Y_test_snr_0_100, Y_hat_m7_snr_0_100)\n",
    "mad_m7_snr_100_150 = MAD(Y_test_snr_100_150, Y_hat_m7_snr_100_150)\n",
    "mad_m7_snr_150_200 = MAD(Y_test_snr_150_200, Y_hat_m7_snr_150_200)\n",
    "\n",
    "mad_test_m7_snr = [mad_m7_snr_0_100 , mad_m7_snr_100_150 , mad_m7_snr_150_200]\n",
    "\n",
    "print(\"mad's modelo 7: \", mad_test_m7_snr) "
   ]
  },
  {
   "cell_type": "code",
   "execution_count": 79,
   "metadata": {},
   "outputs": [
    {
     "name": "stdout",
     "output_type": "stream",
     "text": [
      "mad's modelo 6:  [22.162740022548217, 15.159533735117371, 12.3395033667738]\n"
     ]
    }
   ],
   "source": [
    "Y_hat_m6_snr_0_100 = model_6.predict([X_test_snr_0_100,K_mag_test_snr_0_100,X_offset_test_snr_0_100])\n",
    "Y_hat_m6_snr_100_150 = model_6.predict([X_test_snr_100_150,K_mag_test_snr_100_150,X_offset_test_snr_100_150])\n",
    "Y_hat_m6_snr_150_200 = model_6.predict([X_test_snr_150_200,K_mag_test_snr_150_200,X_offset_test_snr_150_200])\n",
    "\n",
    "\n",
    "mad_m6_snr_0_100 = MAD(Y_test_snr_0_100, Y_hat_m6_snr_0_100)\n",
    "mad_m6_snr_100_150 = MAD(Y_test_snr_100_150, Y_hat_m6_snr_100_150)\n",
    "mad_m6_snr_150_200 = MAD(Y_test_snr_150_200, Y_hat_m6_snr_150_200)\n",
    "\n",
    "mad_test_m6_snr = [mad_m6_snr_0_100 , mad_m6_snr_100_150 , mad_m6_snr_150_200]\n",
    "\n",
    "print(\"mad's modelo 6: \", mad_test_m6_snr) "
   ]
  },
  {
   "cell_type": "code",
   "execution_count": 80,
   "metadata": {},
   "outputs": [
    {
     "name": "stdout",
     "output_type": "stream",
     "text": [
      "mad's modelo 5:  [27.125794573047642, 19.779216364864283, 16.609944234636085]\n"
     ]
    }
   ],
   "source": [
    "Y_hat_m5_snr_0_100 = model_5.predict([X_test_snr_0_100,K_mag_test_snr_0_100,X_offset_test_snr_0_100])\n",
    "Y_hat_m5_snr_100_150 = model_5.predict([X_test_snr_100_150,K_mag_test_snr_100_150,X_offset_test_snr_100_150])\n",
    "Y_hat_m5_snr_150_200 = model_5.predict([X_test_snr_150_200,K_mag_test_snr_150_200,X_offset_test_snr_150_200])\n",
    "\n",
    "mad_m5_snr_0_100 = MAD(Y_test_snr_0_100, Y_hat_m5_snr_0_100)\n",
    "mad_m5_snr_100_150 = MAD(Y_test_snr_100_150, Y_hat_m5_snr_100_150)\n",
    "mad_m5_snr_150_200 = MAD(Y_test_snr_150_200, Y_hat_m5_snr_150_200)\n",
    "\n",
    "mad_test_m5_snr = [ mad_m5_snr_0_100 , mad_m5_snr_100_150 , mad_m5_snr_150_200]\n",
    "\n",
    "print(\"mad's modelo 5: \", mad_test_m5_snr) "
   ]
  },
  {
   "cell_type": "code",
   "execution_count": 81,
   "metadata": {},
   "outputs": [
    {
     "name": "stdout",
     "output_type": "stream",
     "text": [
      "mad's modelo 4:  [30.20722394377985, 21.65559669912481, 18.76159905625335]\n"
     ]
    }
   ],
   "source": [
    "Y_hat_m4_snr_0_100 = model_4.predict([X_test_snr_0_100,K_mag_test_snr_0_100,X_offset_test_snr_0_100])\n",
    "Y_hat_m4_snr_100_150 = model_4.predict([X_test_snr_100_150,K_mag_test_snr_100_150,X_offset_test_snr_100_150])\n",
    "Y_hat_m4_snr_150_200 = model_4.predict([X_test_snr_150_200,K_mag_test_snr_150_200,X_offset_test_snr_150_200])\n",
    "\n",
    "mad_m4_snr_0_100 = MAD(Y_test_snr_0_100, Y_hat_m4_snr_0_100)\n",
    "mad_m4_snr_100_150 = MAD(Y_test_snr_100_150, Y_hat_m4_snr_100_150)\n",
    "mad_m4_snr_150_200 = MAD(Y_test_snr_150_200, Y_hat_m4_snr_150_200)\n",
    "\n",
    "mad_test_m4_snr = [ mad_m4_snr_0_100 , mad_m4_snr_100_150 , mad_m4_snr_150_200]\n",
    "\n",
    "print(\"mad's modelo 4: \", mad_test_m4_snr) "
   ]
  },
  {
   "cell_type": "code",
   "execution_count": 82,
   "metadata": {},
   "outputs": [
    {
     "name": "stdout",
     "output_type": "stream",
     "text": [
      "mad's modelo 3:  [36.48880665541591, 26.22017102243683, 23.87622726893487]\n"
     ]
    }
   ],
   "source": [
    "Y_hat_m3_snr_0_100 = model_3.predict([X_test_snr_0_100,K_mag_test_snr_0_100,X_offset_test_snr_0_100])\n",
    "Y_hat_m3_snr_100_150 = model_3.predict([X_test_snr_100_150,K_mag_test_snr_100_150,X_offset_test_snr_100_150])\n",
    "Y_hat_m3_snr_150_200 = model_3.predict([X_test_snr_150_200,K_mag_test_snr_150_200,X_offset_test_snr_150_200])\n",
    "\n",
    "mad_m3_snr_0_100 = MAD(Y_test_snr_0_100, Y_hat_m3_snr_0_100)\n",
    "mad_m3_snr_100_150 = MAD(Y_test_snr_100_150, Y_hat_m3_snr_100_150)\n",
    "mad_m3_snr_150_200 = MAD(Y_test_snr_150_200, Y_hat_m3_snr_150_200)\n",
    "\n",
    "mad_test_m3_snr = [mad_m3_snr_0_100 , mad_m3_snr_100_150 , mad_m3_snr_150_200]\n",
    "\n",
    "print(\"mad's modelo 3: \", mad_test_m3_snr) "
   ]
  },
  {
   "cell_type": "code",
   "execution_count": 83,
   "metadata": {},
   "outputs": [
    {
     "data": {
      "image/png": "[encoded data removed]",
      "text/plain": [
       "<Figure size 432x288 with 1 Axes>"
      ]
     },
     "metadata": {
      "needs_background": "light"
     },
     "output_type": "display_data"
    }
   ],
   "source": [
    "snr_list = [50,125,175]\n",
    "\n",
    "plt.plot(snr_list, mad_test_m7_snr, \"og-\", label = \"Tamaño set entrenamiento: 27771\")\n",
    "plt.plot(snr_list, mad_test_m6_snr, \"or-\", label = \"Tamaño set entrenamiento: 15000\")\n",
    "plt.plot(snr_list, mad_test_m5_snr, \"ob-\", label = \"Tamaño set entrenamiento: 8000\")\n",
    "plt.plot(snr_list, mad_test_m4_snr, \"oy-\", label = \"Tamaño set entrenamiento: 3000\")\n",
    "plt.plot(snr_list, mad_test_m3_snr, \"om-\", label = \"Tamaño set entrenamiento: 1000\")\n",
    "\n",
    "plt.legend(loc= \"upper right\", bbox_to_anchor=(1.65, 1))\n",
    "plt.ylabel(\"MAD\")\n",
    "#plt.yscale(\"log\")\n",
    "plt.xlabel(\"SNR Espectral\")\n",
    "plt.title(\"Curva de Aprendizaje\")\n",
    "plt.show()"
   ]
  },
  {
   "cell_type": "code",
   "execution_count": 52,
   "metadata": {},
   "outputs": [],
   "source": [
    "from astropy.stats import mad_std\n",
    "mad_std((astroNN_pc[good_idx][idx5] - rc_pc[idx6]) / astroNN_pc[good_idx][idx5]) * 100"
   ]
  },
  {
   "cell_type": "code",
   "execution_count": 60,
   "metadata": {},
   "outputs": [
    {
     "data": {
      "text/plain": [
       "36.48886125586241"
      ]
     },
     "execution_count": 60,
     "metadata": {},
     "output_type": "execute_result"
    }
   ],
   "source": [
    "mad_std((Y_test_snr_0_100 - Y_hat_m3_snr_0_100 )/ Y_test_snr_0_100)*100"
   ]
  },
  {
   "cell_type": "code",
   "execution_count": null,
   "metadata": {},
   "outputs": [],
   "source": []
  }
 ],
 "metadata": {
  "kernelspec": {
   "display_name": "Python 3",
   "language": "python",
   "name": "python3"
  },
  "language_info": {
   "codemirror_mode": {
    "name": "ipython",
    "version": 3
   },
   "file_extension": ".py",
   "mimetype": "text/x-python",
   "name": "python",
   "nbconvert_exporter": "python",
   "pygments_lexer": "ipython3",
   "version": "3.7.7"
  }
 },
 "nbformat": 4,
 "nbformat_minor": 4
}
