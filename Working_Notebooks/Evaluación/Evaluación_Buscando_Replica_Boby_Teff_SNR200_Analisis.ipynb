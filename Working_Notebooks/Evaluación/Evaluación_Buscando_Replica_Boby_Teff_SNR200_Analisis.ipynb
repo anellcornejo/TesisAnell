{
 "cells": [
  {
   "cell_type": "code",
   "execution_count": 1,
   "metadata": {},
   "outputs": [
    {
     "name": "stderr",
     "output_type": "stream",
     "text": [
      "Using TensorFlow backend.\n"
     ]
    }
   ],
   "source": [
    "import tensorflow as tf\n",
    "from tensorflow import keras\n",
    "\n",
    "from keras.layers import Conv1D , Dropout , Flatten , MaxPooling1D, Dense, Input, BatchNormalization\n",
    "from keras.layers.core import Lambda\n",
    "from keras.models import Model , load_model\n",
    "\n",
    "from keras.callbacks import EarlyStopping, ModelCheckpoint, ReduceLROnPlateau\n",
    "\n",
    "import numpy as np\n",
    "import matplotlib.pyplot as plt\n",
    "from matplotlib.gridspec import GridSpec\n",
    "import random\n",
    "import h5py\n",
    "from IPython.display import Image"
   ]
  },
  {
   "cell_type": "markdown",
   "metadata": {},
   "source": [
    "## Carga y distribución de datos"
   ]
  },
  {
   "cell_type": "code",
   "execution_count": 2,
   "metadata": {},
   "outputs": [],
   "source": [
    "# Cargamos los datos\n",
    "path_local_data = '/home/anell/Desktop/Bovy/AnellExercises/Fits_files'\n",
    "#path_local_data = '/home/bapanes/Research-Now/local/astronn-local/apo-gaia/'\n",
    "\n",
    "with h5py.File(f'{path_local_data}/apogeedr14_gaiadr2_with_spectrum_probando_rendimiento_2.h5','r') as F:  \n",
    "    parallax = np.array(F['parallax'])\n",
    "    parallax_error = np.array(F['parallax_err'])\n",
    "    spectra = np.array(F['spectra'])\n",
    "    Kmag = np.array(F['corrected_magnitude_K'])\n",
    "    bp_rp = np.array(F['bp_rp'])\n",
    "    Gmag = np.array(F['phot_g_mean_mag'])\n",
    "    teff = np.array(F['NN_teff'])\n",
    "    apogee_id = np.array(F['APOGEE_ID'])\n",
    "    snr = np.array(F['SNR'])\n",
    "    fe_h = np.array(F['Fe/H'])\n",
    "    path_spectra = np.array(F['Path_spectra'])\n",
    "    Logg = np.array(F['NN_Logg'])"
   ]
  },
  {
   "cell_type": "code",
   "execution_count": 3,
   "metadata": {},
   "outputs": [
    {
     "data": {
      "text/plain": [
       "((60986,), (60986, 7514), (60986,))"
      ]
     },
     "execution_count": 3,
     "metadata": {},
     "output_type": "execute_result"
    }
   ],
   "source": [
    "parallax.shape , spectra.shape , Kmag.shape"
   ]
  },
  {
   "cell_type": "code",
   "execution_count": 4,
   "metadata": {},
   "outputs": [],
   "source": [
    "#Establecemos las variables que entrarán a la red y corregimos sus dimensiones\n",
    "X = np.expand_dims(spectra, axis = 2)\n",
    "Y = np.expand_dims(parallax, axis = 1)\n",
    "K_mag = np.expand_dims(Kmag, axis = 1)\n",
    "\n",
    "# Normalizamos Gmag , el color (G_bp - G_rp) y teff\n",
    "Gmag_std = np.std(Gmag)\n",
    "Gmag_mean = np.mean(Gmag)\n",
    "Gmag_norm = (Gmag - Gmag_mean) / Gmag_std\n",
    "\n",
    "bp_rp_std = np.std(bp_rp)\n",
    "bp_rp_mean = np.mean(bp_rp)\n",
    "bp_rp_norm = (bp_rp - bp_rp_mean) / bp_rp_std\n",
    "\n",
    "teff_std = np.std(teff)\n",
    "teff_mean = np.mean(teff)\n",
    "teff_norm = (teff - teff_mean) / teff_std\n",
    "\n",
    "G_mag = np.expand_dims(Gmag_norm, axis=1)\n",
    "Bp_Rp = np.expand_dims(bp_rp_norm, axis=1)\n",
    "Teff = np.expand_dims(teff_norm, axis=1)\n",
    "teff_not_norm = np.expand_dims(teff, axis=1)\n",
    "G_mag_not_norm = np.expand_dims(Gmag, axis=1)\n",
    "Log_g= np.expand_dims(Logg, axis=1)\n",
    "G_BP_RP = np.expand_dims(bp_rp, axis=1)\n",
    "\n",
    "X_offset = np.concatenate((G_mag, Bp_Rp , Teff), axis = 1) "
   ]
  },
  {
   "cell_type": "code",
   "execution_count": 5,
   "metadata": {},
   "outputs": [
    {
     "name": "stdout",
     "output_type": "stream",
     "text": [
      "(60986, 7514, 1) (60986, 1) (60986, 1) (60986, 3)\n"
     ]
    }
   ],
   "source": [
    "print(X.shape , Y.shape, K_mag.shape, X_offset.shape)"
   ]
  },
  {
   "cell_type": "markdown",
   "metadata": {},
   "source": [
    "#### SNR cut"
   ]
  },
  {
   "cell_type": "code",
   "execution_count": 6,
   "metadata": {},
   "outputs": [],
   "source": [
    "high_snr_idx = []\n",
    "low_snr_idx = []\n",
    "\n",
    "for i in range(len(snr)):\n",
    "    if snr[i] >= 200:           \n",
    "        high_snr_idx.append(i)\n",
    "    else:\n",
    "        low_snr_idx.append(i)\n",
    "\n",
    "random.seed(10)\n",
    "random.shuffle(high_snr_idx)\n",
    "random.seed(60)\n",
    "random.shuffle(low_snr_idx)"
   ]
  },
  {
   "cell_type": "markdown",
   "metadata": {},
   "source": [
    "#### Estos valores pueden ser comparados con Bovy train-test separation, \n",
    "\n",
    "Apart from taht we should be more clear about data preparation and evaluation\n",
    "\n",
    "get consistent and repeatable accuracy using train and validation approach <br>\n",
    "undestand the process of validation (draft about probability_distributions) <br> \n",
    "check the precision on the test data using baseline separation <br>\n",
    "compute learning curve, following Fig 1. of Nguyen et. al.<br>\n",
    "try with percentual mse, such that low and high parallax values weight the same <br>\n",
    "\n",
    "initially we can consider SNR>200 for train-valid and SNR<200 for test <br>\n",
    "understand why it is possible to make this separation and hope for consistent results <br>\n",
    "\n",
    "compare to Bovy using this data separation, using global precision and learning curve<br>\n",
    "\n",
    "How well are we doing with respect to Bovy?"
   ]
  },
  {
   "cell_type": "code",
   "execution_count": 7,
   "metadata": {},
   "outputs": [],
   "source": [
    "#Image(\"/home/bapanes/Research-Now/TesisAnell/Figures/learning_curve_genoma.png\")\n",
    "#Image(\"learning_curve_genoma.png\")"
   ]
  },
  {
   "cell_type": "code",
   "execution_count": 8,
   "metadata": {},
   "outputs": [
    {
     "name": "stdout",
     "output_type": "stream",
     "text": [
      "SNR>200: 27721, else: 33265\n"
     ]
    }
   ],
   "source": [
    "print(\"SNR>200: %d, else: %d\"%(len(high_snr_idx), len(low_snr_idx)))"
   ]
  },
  {
   "cell_type": "markdown",
   "metadata": {},
   "source": [
    "### Diseño Experimental:\n",
    "\n",
    "Consideraré train (0.8) y valid (0.2)\n",
    "\n",
    "train_val_1 $\\rightarrow$  177 (train) + 44 (valid) = 221\n",
    "\n",
    "train_val_2 $\\rightarrow$  400 (train) + 100 (valid) = 500\n",
    "\n",
    "train_val_3 $\\rightarrow$  800 (train) + 200 (valid) = 1000\n",
    "\n",
    "train_val_4 $\\rightarrow$  2400 (train) + 600 (valid) = 3000\n",
    "\n",
    "train_val_5 $\\rightarrow$  6400 (train) + 1600 (valid) = 8000\n",
    "\n",
    "train_val_6 $\\rightarrow$  12000 (train) + 3000 (valid) = 15000\n",
    "\n",
    "train_val_7 $\\rightarrow$  22177 (train) + 5594 (valid) = 27721\n",
    "\n",
    "test $\\rightarrow$ 33265"
   ]
  },
  {
   "cell_type": "code",
   "execution_count": 9,
   "metadata": {},
   "outputs": [],
   "source": [
    "X_high_snr = X[high_snr_idx]\n",
    "Y_high_snr = Y[high_snr_idx]\n",
    "K_mag_high_snr = K_mag[high_snr_idx]\n",
    "X_offset_high_snr = X_offset[high_snr_idx]\n",
    "#teff_not_norm_high_snr = teff_not_norm[high_snr_idx]\n",
    "\n",
    "X_low_snr = X[low_snr_idx]\n",
    "Y_low_snr = Y[low_snr_idx]\n",
    "K_mag_low_snr = K_mag[low_snr_idx]\n",
    "X_offset_low_snr = X_offset[low_snr_idx]\n",
    "#teff_not_norm_low_snr = teff_not_norm[low_snr_idx]"
   ]
  },
  {
   "cell_type": "code",
   "execution_count": 10,
   "metadata": {},
   "outputs": [],
   "source": [
    "X_train_val_1 = X_high_snr[:221]\n",
    "Y_train_val_1 = Y_high_snr[:221]\n",
    "K_mag_train_val_1 = K_mag_high_snr[:221]\n",
    "X_offset_train_val_1 = X_offset_high_snr[:221]\n",
    "\n",
    "X_train_val_2 = X_high_snr[221:721]\n",
    "Y_train_val_2 = Y_high_snr[221:721]\n",
    "K_mag_train_val_2 = K_mag_high_snr[221:721]\n",
    "X_offset_train_val_2 = X_offset_high_snr[221:721]\n",
    "\n",
    "X_train_val_3 = X_high_snr[721:1721]\n",
    "Y_train_val_3 = Y_high_snr[721:1721]\n",
    "K_mag_train_val_3 = K_mag_high_snr[721:1721]\n",
    "X_offset_train_val_3 = X_offset_high_snr[721:1721]\n",
    "\n",
    "X_train_val_4 = X_high_snr[1721:4721]\n",
    "Y_train_val_4 = Y_high_snr[1721:4721]\n",
    "K_mag_train_val_4 = K_mag_high_snr[1721:4721]\n",
    "X_offset_train_val_4 = X_offset_high_snr[1721:4721]\n",
    "\n",
    "X_train_val_5 = X_high_snr[4721:12721]\n",
    "Y_train_val_5 = Y_high_snr[4721:12721]\n",
    "K_mag_train_val_5 = K_mag_high_snr[4721:12721]\n",
    "X_offset_train_val_5 = X_offset_high_snr[4721:12721]\n",
    "\n",
    "X_train_val_6 = X_high_snr[12721:]\n",
    "Y_train_val_6 = Y_high_snr[12721:]\n",
    "K_mag_train_val_6 = K_mag_high_snr[12721:]\n",
    "X_offset_train_val_6 = X_offset_high_snr[12721:]\n",
    "\n",
    "X_train_val_7 = X_high_snr\n",
    "Y_train_val_7 = Y_high_snr\n",
    "K_mag_train_val_7 = K_mag_high_snr\n",
    "X_offset_train_val_7 = X_offset_high_snr\n",
    "\n",
    "X_test = X_low_snr\n",
    "Y_test = Y_low_snr\n",
    "K_mag_test = K_mag_low_snr\n",
    "X_offset_test = X_offset_low_snr\n",
    "snr_test = snr[low_snr_idx]\n",
    "teff_test = teff_not_norm[low_snr_idx]\n",
    "G_mag_test = G_mag_not_norm[low_snr_idx]\n",
    "logg_test = Log_g[low_snr_idx]\n",
    "G_bp_rp_test = G_BP_RP[low_snr_idx]"
   ]
  },
  {
   "cell_type": "code",
   "execution_count": 11,
   "metadata": {},
   "outputs": [
    {
     "name": "stdout",
     "output_type": "stream",
     "text": [
      "(221, 1) (500, 1) (1000, 1) (3000, 1) (8000, 1) (15000, 1) (27721, 1) (33265, 1)\n"
     ]
    }
   ],
   "source": [
    "print(Y_train_val_1.shape , Y_train_val_2.shape , Y_train_val_3.shape, Y_train_val_4.shape , \n",
    "      Y_train_val_5.shape,Y_train_val_6.shape ,Y_train_val_7.shape , Y_test.shape)"
   ]
  },
  {
   "cell_type": "markdown",
   "metadata": {},
   "source": [
    "## Carga de modelos"
   ]
  },
  {
   "cell_type": "code",
   "execution_count": 12,
   "metadata": {},
   "outputs": [],
   "source": [
    "path_local_models = '/home/anell/Desktop/Bovy/AnellExercises/Good_Models/'\n",
    "\n",
    "#No consideraré los modelos 1 y 2 porque se entrenaron con muy pocos datos\n",
    "\n",
    "model_3 = load_model(f'{path_local_models}/Modelo_1_200epoch_D3_ReplicaBovy.h5',custom_objects={'tf': tf}) #1000\n",
    "model_4 = load_model(f'{path_local_models}/Modelo_1_200epoch_D4_ReplicaBovy.h5',custom_objects={'tf': tf}) #3000\n",
    "model_5 = load_model(f'{path_local_models}/Modelo_1_200epoch_D5_ReplicaBovy.h5',custom_objects={'tf': tf}) #8000\n",
    "model_6 = load_model(f'{path_local_models}/Modelo_1_200epoch_D6_ReplicaBovy.h5',custom_objects={'tf': tf}) #15000\n",
    "model_7 = load_model(f'{path_local_models}/Modelo_1_200epoch_D7_ReplicaBovy.h5',custom_objects={'tf': tf}) #27771"
   ]
  },
  {
   "cell_type": "markdown",
   "metadata": {},
   "source": [
    "### Separación según temperatura efectiva en set de testeo"
   ]
  },
  {
   "cell_type": "code",
   "execution_count": 13,
   "metadata": {},
   "outputs": [
    {
     "data": {
      "text/plain": [
       "(array([3647.6694], dtype=float32), array([5947.7134], dtype=float32))"
      ]
     },
     "execution_count": 13,
     "metadata": {},
     "output_type": "execute_result"
    }
   ],
   "source": [
    "min(teff_test) , max(teff_test)"
   ]
  },
  {
   "cell_type": "code",
   "execution_count": 17,
   "metadata": {},
   "outputs": [
    {
     "name": "stdout",
     "output_type": "stream",
     "text": [
      "5265 13947 10781 3272\n"
     ]
    }
   ],
   "source": [
    "teff_3000_4500 = []\n",
    "teff_4500_5000 = []\n",
    "teff_5000_5500 = []\n",
    "teff_5500_6000 = []\n",
    "\n",
    "\n",
    "\n",
    "for i in range(len(teff_test)):\n",
    "    if teff_test[i] <= 4500:\n",
    "        teff_3000_4500.append(i)\n",
    "    elif 4500 < teff_test[i] <= 5000:\n",
    "        teff_4500_5000.append(i)\n",
    "    elif 5000 < teff_test[i] <= 5500:\n",
    "        teff_5000_5500.append(i)\n",
    "    else :\n",
    "        teff_5500_6000.append(i)\n",
    "\n",
    "print(len(teff_3000_4500),len(teff_4500_5000),len(teff_5000_5500),\n",
    "      len(teff_5500_6000))"
   ]
  },
  {
   "cell_type": "code",
   "execution_count": 18,
   "metadata": {},
   "outputs": [
    {
     "name": "stdout",
     "output_type": "stream",
     "text": [
      "(5265, 1) (13947, 1) (10781, 1) (3272, 1)\n"
     ]
    }
   ],
   "source": [
    "X_test_teff_3000_4500 = X_test[teff_3000_4500]\n",
    "Y_test_teff_3000_4500 = Y_test[teff_3000_4500]\n",
    "K_mag_test_teff_3000_4500 = K_mag_test[teff_3000_4500]\n",
    "X_offset_test_teff_3000_4500 = X_offset_test[teff_3000_4500]\n",
    "teff_test_teff_3000_4500 = teff_test[teff_3000_4500]\n",
    "G_mag_test_snr_teff_3000_4500 = G_mag_test[teff_3000_4500]\n",
    "logg_test_snr_teff_3000_4500 = logg_test[teff_3000_4500]\n",
    "G_bp_rp_test_snr_teff_3000_4500 = G_bp_rp_test[teff_3000_4500]\n",
    "\n",
    "X_test_teff_4500_5000 = X_test[teff_4500_5000]\n",
    "Y_test_teff_4500_5000 = Y_test[teff_4500_5000]\n",
    "K_mag_test_teff_4500_5000 = K_mag_test[teff_4500_5000]\n",
    "X_offset_test_teff_4500_5000 = X_offset_test[teff_4500_5000]\n",
    "teff_test_teff_4500_5000 = teff_test[teff_4500_5000]\n",
    "G_mag_test_snr_teff_4500_5000 = G_mag_test[teff_4500_5000]\n",
    "logg_test_snr_teff_4500_5000 = logg_test[teff_4500_5000]\n",
    "G_bp_rp_test_snr_teff_4500_5000 = G_bp_rp_test[teff_4500_5000]\n",
    "\n",
    "X_test_teff_5000_5500 = X_test[teff_5000_5500]\n",
    "Y_test_teff_5000_5500 = Y_test[teff_5000_5500]\n",
    "K_mag_test_teff_5000_5500 = K_mag_test[teff_5000_5500]\n",
    "X_offset_test_teff_5000_5500 = X_offset_test[teff_5000_5500]\n",
    "teff_test_teff_5000_5500 = teff_test[teff_5000_5500]\n",
    "G_mag_test_snr_teff_5000_5500 = G_mag_test[teff_5000_5500]\n",
    "logg_test_snr_teff_5000_5500 = logg_test[teff_5000_5500]\n",
    "G_bp_rp_test_snr_teff_5000_5500 = G_bp_rp_test[teff_5000_5500]\n",
    "\n",
    "X_test_teff_5500_6000 = X_test[teff_5500_6000]\n",
    "Y_test_teff_5500_6000 = Y_test[teff_5500_6000]\n",
    "K_mag_test_teff_5500_6000 = K_mag_test[teff_5500_6000]\n",
    "X_offset_test_teff_5500_6000 = X_offset_test[teff_5500_6000]\n",
    "teff_test_teff_5500_6000 = teff_test[teff_5500_6000]\n",
    "G_mag_test_snr_teff_5500_6000 = G_mag_test[teff_5500_6000]\n",
    "logg_test_snr_teff_5500_6000 = logg_test[teff_5500_6000]\n",
    "G_bp_rp_test_snr_teff_5500_6000 = G_bp_rp_test[teff_5500_6000]\n",
    "\n",
    "print(Y_test_teff_3000_4500.shape, Y_test_teff_4500_5000.shape, \n",
    "      Y_test_teff_5000_5500.shape, Y_test_teff_5500_6000.shape)"
   ]
  },
  {
   "cell_type": "markdown",
   "metadata": {},
   "source": [
    "### Curva de aprendizaje MAD en función a temperatura"
   ]
  },
  {
   "cell_type": "code",
   "execution_count": 19,
   "metadata": {},
   "outputs": [],
   "source": [
    "def MAD(Y,Y_hat):  \n",
    "    R_percent = (Y - Y_hat) / Y *100\n",
    "    s_mad = 1.4826 * np.median(np.abs(R_percent - np.median(R_percent)))\n",
    "    return s_mad"
   ]
  },
  {
   "cell_type": "code",
   "execution_count": 22,
   "metadata": {},
   "outputs": [
    {
     "name": "stdout",
     "output_type": "stream",
     "text": [
      "mad's modelo 7:  [13.241405711797153, 14.627426699947128, 14.32888384959681, 14.833497754511304]\n"
     ]
    }
   ],
   "source": [
    "Y_hat_m7_teff_3000_4500 = model_7.predict([X_test_teff_3000_4500,K_mag_test_teff_3000_4500,X_offset_test_teff_3000_4500])\n",
    "Y_hat_m7_teff_4500_5000 = model_7.predict([X_test_teff_4500_5000,K_mag_test_teff_4500_5000,X_offset_test_teff_4500_5000])\n",
    "Y_hat_m7_teff_5000_5500 = model_7.predict([X_test_teff_5000_5500,K_mag_test_teff_5000_5500,X_offset_test_teff_5000_5500])\n",
    "Y_hat_m7_teff_5500_6000 = model_7.predict([X_test_teff_5500_6000,K_mag_test_teff_5500_6000,X_offset_test_teff_5500_6000])\n",
    "\n",
    "mad_m7_teff_3000_4500 = MAD(Y_test_teff_3000_4500, Y_hat_m7_teff_3000_4500)\n",
    "mad_m7_teff_4500_5000 = MAD(Y_test_teff_4500_5000, Y_hat_m7_teff_4500_5000)\n",
    "mad_m7_teff_5000_5500 = MAD(Y_test_teff_5000_5500, Y_hat_m7_teff_5000_5500)\n",
    "mad_m7_teff_5500_6000 = MAD(Y_test_teff_5500_6000, Y_hat_m7_teff_5500_6000)\n",
    "\n",
    "\n",
    "mad_test_m7_teff = [mad_m7_teff_3000_4500 , mad_m7_teff_4500_5000 ,\n",
    "                  mad_m7_teff_5000_5500 , mad_m7_teff_5500_6000]\n",
    "\n",
    "print(\"mad's modelo 7: \", mad_test_m7_teff) "
   ]
  },
  {
   "cell_type": "code",
   "execution_count": 24,
   "metadata": {},
   "outputs": [
    {
     "name": "stdout",
     "output_type": "stream",
     "text": [
      "mad's modelo 6:  [15.163648464893534, 15.231785247319138, 15.366968424603478, 15.249510010211882]\n"
     ]
    }
   ],
   "source": [
    "Y_hat_m6_teff_3000_4500 = model_6.predict([X_test_teff_3000_4500,K_mag_test_teff_3000_4500,X_offset_test_teff_3000_4500])\n",
    "Y_hat_m6_teff_4500_5000 = model_6.predict([X_test_teff_4500_5000,K_mag_test_teff_4500_5000,X_offset_test_teff_4500_5000])\n",
    "Y_hat_m6_teff_5000_5500 = model_6.predict([X_test_teff_5000_5500,K_mag_test_teff_5000_5500,X_offset_test_teff_5000_5500])\n",
    "Y_hat_m6_teff_5500_6000 = model_6.predict([X_test_teff_5500_6000,K_mag_test_teff_5500_6000,X_offset_test_teff_5500_6000])\n",
    "\n",
    "mad_m6_teff_3000_4500 = MAD(Y_test_teff_3000_4500, Y_hat_m6_teff_3000_4500)\n",
    "mad_m6_teff_4500_5000 = MAD(Y_test_teff_4500_5000, Y_hat_m6_teff_4500_5000)\n",
    "mad_m6_teff_5000_5500 = MAD(Y_test_teff_5000_5500, Y_hat_m6_teff_5000_5500)\n",
    "mad_m6_teff_5500_6000 = MAD(Y_test_teff_5500_6000, Y_hat_m6_teff_5500_6000)\n",
    "\n",
    "\n",
    "mad_test_m6_teff = [mad_m6_teff_3000_4500 , mad_m6_teff_4500_5000 ,\n",
    "                   mad_m6_teff_5000_5500 , mad_m6_teff_5500_6000]\n",
    "\n",
    "print(\"mad's modelo 6: \", mad_test_m6_teff) "
   ]
  },
  {
   "cell_type": "code",
   "execution_count": 25,
   "metadata": {},
   "outputs": [
    {
     "name": "stdout",
     "output_type": "stream",
     "text": [
      "mad's modelo 5:  [18.778361005362598, 20.563926507788658, 20.243397335912963, 19.478283113352]\n"
     ]
    }
   ],
   "source": [
    "Y_hat_m5_teff_3000_4500 = model_5.predict([X_test_teff_3000_4500,K_mag_test_teff_3000_4500,X_offset_test_teff_3000_4500])\n",
    "Y_hat_m5_teff_4500_5000 = model_5.predict([X_test_teff_4500_5000,K_mag_test_teff_4500_5000,X_offset_test_teff_4500_5000])\n",
    "Y_hat_m5_teff_5000_5500 = model_5.predict([X_test_teff_5000_5500,K_mag_test_teff_5000_5500,X_offset_test_teff_5000_5500])\n",
    "Y_hat_m5_teff_5500_6000 = model_5.predict([X_test_teff_5500_6000,K_mag_test_teff_5500_6000,X_offset_test_teff_5500_6000])\n",
    "\n",
    "mad_m5_teff_3000_4500 = MAD(Y_test_teff_3000_4500, Y_hat_m5_teff_3000_4500)\n",
    "mad_m5_teff_4500_5000 = MAD(Y_test_teff_4500_5000, Y_hat_m5_teff_4500_5000)\n",
    "mad_m5_teff_5000_5500 = MAD(Y_test_teff_5000_5500, Y_hat_m5_teff_5000_5500)\n",
    "mad_m5_teff_5500_6000 = MAD(Y_test_teff_5500_6000, Y_hat_m5_teff_5500_6000)\n",
    "\n",
    "\n",
    "mad_test_m5_teff = [mad_m5_teff_3000_4500 , mad_m5_teff_4500_5000 ,\n",
    "                   mad_m5_teff_5000_5500 , mad_m5_teff_5500_6000]\n",
    "\n",
    "print(\"mad's modelo 5: \", mad_test_m5_teff)"
   ]
  },
  {
   "cell_type": "code",
   "execution_count": 26,
   "metadata": {},
   "outputs": [
    {
     "name": "stdout",
     "output_type": "stream",
     "text": [
      "mad's modelo 4:  [20.200940676135474, 23.101123938442285, 22.52398199096302, 22.492345504095937]\n"
     ]
    }
   ],
   "source": [
    "Y_hat_m4_teff_3000_4500 = model_4.predict([X_test_teff_3000_4500,K_mag_test_teff_3000_4500,X_offset_test_teff_3000_4500])\n",
    "Y_hat_m4_teff_4500_5000 = model_4.predict([X_test_teff_4500_5000,K_mag_test_teff_4500_5000,X_offset_test_teff_4500_5000])\n",
    "Y_hat_m4_teff_5000_5500 = model_4.predict([X_test_teff_5000_5500,K_mag_test_teff_5000_5500,X_offset_test_teff_5000_5500])\n",
    "Y_hat_m4_teff_5500_6000 = model_4.predict([X_test_teff_5500_6000,K_mag_test_teff_5500_6000,X_offset_test_teff_5500_6000])\n",
    "\n",
    "mad_m4_teff_3000_4500 = MAD(Y_test_teff_3000_4500, Y_hat_m4_teff_3000_4500)\n",
    "mad_m4_teff_4500_5000 = MAD(Y_test_teff_4500_5000, Y_hat_m4_teff_4500_5000)\n",
    "mad_m4_teff_5000_5500 = MAD(Y_test_teff_5000_5500, Y_hat_m4_teff_5000_5500)\n",
    "mad_m4_teff_5500_6000 = MAD(Y_test_teff_5500_6000, Y_hat_m4_teff_5500_6000)\n",
    "\n",
    "\n",
    "mad_test_m4_teff = [mad_m4_teff_3000_4500 , mad_m4_teff_4500_5000 ,\n",
    "                    mad_m4_teff_5000_5500 , mad_m4_teff_5500_6000]\n",
    "\n",
    "print(\"mad's modelo 4: \", mad_test_m4_teff)"
   ]
  },
  {
   "cell_type": "code",
   "execution_count": 27,
   "metadata": {},
   "outputs": [
    {
     "name": "stdout",
     "output_type": "stream",
     "text": [
      "mad's modelo 3:  [21.507825606386387, 26.001972896126528, 29.681313953348518, 25.81818822366104]\n"
     ]
    }
   ],
   "source": [
    "Y_hat_m3_teff_3000_4500 = model_3.predict([X_test_teff_3000_4500,K_mag_test_teff_3000_4500,X_offset_test_teff_3000_4500])\n",
    "Y_hat_m3_teff_4500_5000 = model_3.predict([X_test_teff_4500_5000,K_mag_test_teff_4500_5000,X_offset_test_teff_4500_5000])\n",
    "Y_hat_m3_teff_5000_5500 = model_3.predict([X_test_teff_5000_5500,K_mag_test_teff_5000_5500,X_offset_test_teff_5000_5500])\n",
    "Y_hat_m3_teff_5500_6000 = model_3.predict([X_test_teff_5500_6000,K_mag_test_teff_5500_6000,X_offset_test_teff_5500_6000])\n",
    "\n",
    "mad_m3_teff_3000_4500 = MAD(Y_test_teff_3000_4500, Y_hat_m3_teff_3000_4500)\n",
    "mad_m3_teff_4500_5000 = MAD(Y_test_teff_4500_5000, Y_hat_m3_teff_4500_5000)\n",
    "mad_m3_teff_5000_5500 = MAD(Y_test_teff_5000_5500, Y_hat_m3_teff_5000_5500)\n",
    "mad_m3_teff_5500_6000 = MAD(Y_test_teff_5500_6000, Y_hat_m3_teff_5500_6000)\n",
    "\n",
    "\n",
    "mad_test_m3_teff = [mad_m3_teff_3000_4500 , mad_m3_teff_4500_5000 ,\n",
    "                    mad_m3_teff_5000_5500 , mad_m3_teff_5500_6000]\n",
    "\n",
    "print(\"mad's modelo 3: \", mad_test_m3_teff)"
   ]
  },
  {
   "cell_type": "code",
   "execution_count": 33,
   "metadata": {
    "scrolled": true
   },
   "outputs": [
    {
     "data": {
      "image/png": "[encoded data removed]",
      "text/plain": [
       "<Figure size 1080x432 with 2 Axes>"
      ]
     },
     "metadata": {
      "needs_background": "light"
     },
     "output_type": "display_data"
    }
   ],
   "source": [
    "teff_list = [3750, 4750 , 5250 , 5750]\n",
    "\n",
    "plt.figure(figsize = (15,6))\n",
    "plt.subplot(1,2,1)\n",
    "plt.plot(teff_list, mad_test_m3_teff, \"om-\", label = \"Tamaño set entrenamiento: 1000\")\n",
    "plt.plot(teff_list, mad_test_m4_teff, \"oy-\", label = \"Tamaño set entrenamiento: 3000\")\n",
    "plt.plot(teff_list, mad_test_m5_teff, \"ob-\", label = \"Tamaño set entrenamiento: 8000\")\n",
    "plt.plot(teff_list, mad_test_m6_teff, \"or-\", label = \"Tamaño set entrenamiento: 15000\")\n",
    "plt.plot(teff_list, mad_test_m7_teff, \"og-\", label = \"Tamaño set entrenamiento: 27771\")\n",
    "\n",
    "plt.legend(loc= \"upper left\", bbox_to_anchor=(0, 1))\n",
    "plt.ylabel(\"MAD\")\n",
    "#plt.yscale(\"log\")\n",
    "plt.xlabel(\"Temperatura efectiva (K)\")\n",
    "plt.title(\"Curva de Aprendizaje para el set de testeo\")\n",
    "#plt.ylim(0,80)\n",
    "\n",
    "\n",
    "plt.subplot(1,2,2)\n",
    "plt.hist(teff_test, bins=4, alpha=0.4 , color=\"r\",edgecolor='k')\n",
    "#plt.xlim([-500, 500])\n",
    "plt.xlabel('Temperatura efectiva (K)')\n",
    "plt.ylabel('Cuentas')\n",
    "plt.show()"
   ]
  },
  {
   "cell_type": "code",
   "execution_count": null,
   "metadata": {},
   "outputs": [],
   "source": []
  }
 ],
 "metadata": {
  "kernelspec": {
   "display_name": "Python 3",
   "language": "python",
   "name": "python3"
  },
  "language_info": {
   "codemirror_mode": {
    "name": "ipython",
    "version": 3
   },
   "file_extension": ".py",
   "mimetype": "text/x-python",
   "name": "python",
   "nbconvert_exporter": "python",
   "pygments_lexer": "ipython3",
   "version": "3.7.7"
  }
 },
 "nbformat": 4,
 "nbformat_minor": 4
}
