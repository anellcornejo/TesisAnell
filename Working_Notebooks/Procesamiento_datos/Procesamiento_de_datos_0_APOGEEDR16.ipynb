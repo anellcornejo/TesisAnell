{
 "cells": [
  {
   "cell_type": "markdown",
   "metadata": {},
   "source": [
    "Match entre los datos del dr16 de APOGEE y dr2 de Gaia"
   ]
  },
  {
   "cell_type": "code",
   "execution_count": 1,
   "metadata": {},
   "outputs": [
    {
     "name": "stdout",
     "output_type": "stream",
     "text": [
      "Created TAP+ (v1.2.1) - Connection:\n",
      "\tHost: gea.esac.esa.int\n",
      "\tUse HTTPS: True\n",
      "\tPort: 443\n",
      "\tSSL Port: 443\n",
      "Created TAP+ (v1.2.1) - Connection:\n",
      "\tHost: geadata.esac.esa.int\n",
      "\tUse HTTPS: True\n",
      "\tPort: 443\n",
      "\tSSL Port: 443\n"
     ]
    }
   ],
   "source": [
    "from astropy.io import fits\n",
    "import numpy as np\n",
    "import gaia_tools.xmatch\n",
    "from gaia_tools import query\n",
    "from astropy.table import Table\n",
    "import matplotlib.pyplot as plt\n",
    "import pandas as pd"
   ]
  },
  {
   "cell_type": "code",
   "execution_count": 2,
   "metadata": {},
   "outputs": [],
   "source": [
    "apogeedr16 = fits.getdata('/home/anell/Desktop/Bovy/SDSS_LOCAL_SAS_MIRROR/dr16/apogee/spectro/aspcap/r12/l33/allStar-r12-l33.fits')"
   ]
  },
  {
   "cell_type": "code",
   "execution_count": 4,
   "metadata": {},
   "outputs": [
    {
     "name": "stdout",
     "output_type": "stream",
     "text": [
      "INFO: Query finished. [astroquery.utils.tap.core]                               \n"
     ]
    }
   ],
   "source": [
    "gaia_matches, matches_indx = gaia_tools.xmatch.cds(apogeedr16, colRA='ra', colDec='dec', xcat='vizier:I/345/gaia2', gaia_all_columns=True)"
   ]
  },
  {
   "cell_type": "code",
   "execution_count": 6,
   "metadata": {},
   "outputs": [
    {
     "data": {
      "text/plain": [
       "(467760, 467760, 473307)"
      ]
     },
     "execution_count": 6,
     "metadata": {},
     "output_type": "execute_result"
    }
   ],
   "source": [
    "len(matches_indx),len(gaia_matches), len(apogeedr16)"
   ]
  },
  {
   "cell_type": "code",
   "execution_count": 7,
   "metadata": {},
   "outputs": [],
   "source": [
    "gaia_matches.remove_columns(['datalink_url', 'epoch_photometry_url', 'designation', 'phot_variable_flag'])\n",
    "\n",
    "pandat = gaia_matches.filled(fill_value=-9999.).to_pandas()  # llena los espacios con -9999. \n",
    "t2 = Table.from_pandas(pandat)\n",
    "t2.write('/home/anell/Desktop/Bovy/AnellExercises/match_gaia_apogee/apogeedr16_gaiadr_xmatch_allcolumns.fits')"
   ]
  },
  {
   "cell_type": "code",
   "execution_count": 14,
   "metadata": {},
   "outputs": [],
   "source": [
    "a = fits.getdata('/home/anell/Desktop/Bovy/AnellExercises/match_gaia_apogee/apogeedr16_gaiadr_xmatch_allcolumns.fits')"
   ]
  },
  {
   "cell_type": "code",
   "execution_count": 16,
   "metadata": {},
   "outputs": [
    {
     "data": {
      "text/plain": [
       "ColDefs(\n",
       "    name = 'solution_id'; format = 'K'\n",
       "    name = 'source_id'; format = 'K'\n",
       "    name = 'random_index'; format = 'K'\n",
       "    name = 'ref_epoch'; format = 'D'\n",
       "    name = 'ra'; format = 'D'\n",
       "    name = 'ra_error'; format = 'D'\n",
       "    name = 'dec'; format = 'D'\n",
       "    name = 'dec_error'; format = 'D'\n",
       "    name = 'parallax'; format = 'D'\n",
       "    name = 'parallax_error'; format = 'D'\n",
       "    name = 'parallax_over_error'; format = 'E'\n",
       "    name = 'pmra'; format = 'D'\n",
       "    name = 'pmra_error'; format = 'D'\n",
       "    name = 'pmdec'; format = 'D'\n",
       "    name = 'pmdec_error'; format = 'D'\n",
       "    name = 'ra_dec_corr'; format = 'E'\n",
       "    name = 'ra_parallax_corr'; format = 'E'\n",
       "    name = 'ra_pmra_corr'; format = 'E'\n",
       "    name = 'ra_pmdec_corr'; format = 'E'\n",
       "    name = 'dec_parallax_corr'; format = 'E'\n",
       "    name = 'dec_pmra_corr'; format = 'E'\n",
       "    name = 'dec_pmdec_corr'; format = 'E'\n",
       "    name = 'parallax_pmra_corr'; format = 'E'\n",
       "    name = 'parallax_pmdec_corr'; format = 'E'\n",
       "    name = 'pmra_pmdec_corr'; format = 'E'\n",
       "    name = 'astrometric_n_obs_al'; format = 'J'\n",
       "    name = 'astrometric_n_obs_ac'; format = 'J'\n",
       "    name = 'astrometric_n_good_obs_al'; format = 'J'\n",
       "    name = 'astrometric_n_bad_obs_al'; format = 'J'\n",
       "    name = 'astrometric_gof_al'; format = 'E'\n",
       "    name = 'astrometric_chi2_al'; format = 'E'\n",
       "    name = 'astrometric_excess_noise'; format = 'D'\n",
       "    name = 'astrometric_excess_noise_sig'; format = 'D'\n",
       "    name = 'astrometric_params_solved'; format = 'I'\n",
       "    name = 'astrometric_primary_flag'; format = 'L'\n",
       "    name = 'astrometric_weight_al'; format = 'E'\n",
       "    name = 'astrometric_pseudo_colour'; format = 'D'\n",
       "    name = 'astrometric_pseudo_colour_error'; format = 'D'\n",
       "    name = 'mean_varpi_factor_al'; format = 'E'\n",
       "    name = 'astrometric_matched_observations'; format = 'I'\n",
       "    name = 'visibility_periods_used'; format = 'I'\n",
       "    name = 'astrometric_sigma5d_max'; format = 'E'\n",
       "    name = 'frame_rotator_object_type'; format = 'J'\n",
       "    name = 'matched_observations'; format = 'I'\n",
       "    name = 'duplicated_source'; format = 'L'\n",
       "    name = 'phot_g_n_obs'; format = 'J'\n",
       "    name = 'phot_g_mean_flux'; format = 'D'\n",
       "    name = 'phot_g_mean_flux_error'; format = 'D'\n",
       "    name = 'phot_g_mean_flux_over_error'; format = 'E'\n",
       "    name = 'phot_g_mean_mag'; format = 'E'\n",
       "    name = 'phot_bp_n_obs'; format = 'J'\n",
       "    name = 'phot_bp_mean_flux'; format = 'D'\n",
       "    name = 'phot_bp_mean_flux_error'; format = 'D'\n",
       "    name = 'phot_bp_mean_flux_over_error'; format = 'E'\n",
       "    name = 'phot_bp_mean_mag'; format = 'E'\n",
       "    name = 'phot_rp_n_obs'; format = 'J'\n",
       "    name = 'phot_rp_mean_flux'; format = 'D'\n",
       "    name = 'phot_rp_mean_flux_error'; format = 'D'\n",
       "    name = 'phot_rp_mean_flux_over_error'; format = 'E'\n",
       "    name = 'phot_rp_mean_mag'; format = 'E'\n",
       "    name = 'phot_bp_rp_excess_factor'; format = 'E'\n",
       "    name = 'phot_proc_mode'; format = 'I'\n",
       "    name = 'bp_rp'; format = 'E'\n",
       "    name = 'bp_g'; format = 'E'\n",
       "    name = 'g_rp'; format = 'E'\n",
       "    name = 'radial_velocity'; format = 'D'\n",
       "    name = 'radial_velocity_error'; format = 'D'\n",
       "    name = 'rv_nb_transits'; format = 'J'\n",
       "    name = 'rv_template_teff'; format = 'E'\n",
       "    name = 'rv_template_logg'; format = 'E'\n",
       "    name = 'rv_template_fe_h'; format = 'E'\n",
       "    name = 'l'; format = 'D'\n",
       "    name = 'b'; format = 'D'\n",
       "    name = 'ecl_lon'; format = 'D'\n",
       "    name = 'ecl_lat'; format = 'D'\n",
       "    name = 'priam_flags'; format = 'K'\n",
       "    name = 'teff_val'; format = 'E'\n",
       "    name = 'teff_percentile_lower'; format = 'E'\n",
       "    name = 'teff_percentile_upper'; format = 'E'\n",
       "    name = 'a_g_val'; format = 'E'\n",
       "    name = 'a_g_percentile_lower'; format = 'E'\n",
       "    name = 'a_g_percentile_upper'; format = 'E'\n",
       "    name = 'e_bp_min_rp_val'; format = 'E'\n",
       "    name = 'e_bp_min_rp_percentile_lower'; format = 'E'\n",
       "    name = 'e_bp_min_rp_percentile_upper'; format = 'E'\n",
       "    name = 'flame_flags'; format = 'K'\n",
       "    name = 'radius_val'; format = 'E'\n",
       "    name = 'radius_percentile_lower'; format = 'E'\n",
       "    name = 'radius_percentile_upper'; format = 'E'\n",
       "    name = 'lum_val'; format = 'E'\n",
       "    name = 'lum_percentile_lower'; format = 'E'\n",
       "    name = 'lum_percentile_upper'; format = 'E'\n",
       "    name = 'RA'; format = 'D'\n",
       "    name = 'DEC'; format = 'D'\n",
       ")"
      ]
     },
     "execution_count": 16,
     "metadata": {},
     "output_type": "execute_result"
    }
   ],
   "source": [
    "a.columns"
   ]
  },
  {
   "cell_type": "code",
   "execution_count": null,
   "metadata": {},
   "outputs": [],
   "source": []
  }
 ],
 "metadata": {
  "kernelspec": {
   "display_name": "Python 3",
   "language": "python",
   "name": "python3"
  },
  "language_info": {
   "codemirror_mode": {
    "name": "ipython",
    "version": 3
   },
   "file_extension": ".py",
   "mimetype": "text/x-python",
   "name": "python",
   "nbconvert_exporter": "python",
   "pygments_lexer": "ipython3",
   "version": "3.7.7"
  }
 },
 "nbformat": 4,
 "nbformat_minor": 4
}
