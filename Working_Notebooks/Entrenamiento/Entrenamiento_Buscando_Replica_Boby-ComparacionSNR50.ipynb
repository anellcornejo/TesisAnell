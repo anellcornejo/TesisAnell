{
 "cells": [
  {
   "cell_type": "code",
   "execution_count": 1,
   "metadata": {},
   "outputs": [
    {
     "name": "stderr",
     "output_type": "stream",
     "text": [
      "Using TensorFlow backend.\n"
     ]
    }
   ],
   "source": [
    "import tensorflow as tf\n",
    "from tensorflow import keras\n",
    "\n",
    "from keras.layers import Conv1D , Dropout , Flatten , MaxPooling1D, Dense, Input, BatchNormalization\n",
    "from keras.layers.core import Lambda\n",
    "from keras.models import Model , load_model\n",
    "\n",
    "from keras.callbacks import EarlyStopping, ModelCheckpoint, ReduceLROnPlateau\n",
    "\n",
    "import numpy as np\n",
    "import matplotlib.pyplot as plt\n",
    "import random\n",
    "import h5py\n",
    "from IPython.display import Image"
   ]
  },
  {
   "cell_type": "code",
   "execution_count": 2,
   "metadata": {},
   "outputs": [],
   "source": [
    "def ApogeeDR14GaiaDR2(dim_t , dim_n): \n",
    "    \"\"\"\n",
    "    INPUT: \n",
    "    dim_t - number of time steps of spectrum \n",
    "    dim_n - number of features of spectrum\n",
    "    \"\"\"\n",
    "    \n",
    "    #SPECTRUM TO LUINOSITY\n",
    "    dim_1 = 1 # number of corrected magnitude for one example \n",
    "    units = 1 #number of final output for one example+\n",
    "    \n",
    "    inputs_spectra = Input(shape=(dim_t, dim_n), name=\"pseudo-lum-input\") \n",
    "    inputs_mag = Input(shape=(dim_1,), name=\"K_mag\")\n",
    "    \n",
    "    x_parallax = Conv1D(filters=2, kernel_size=3, activation='relu')(inputs_spectra)\n",
    "    x_parallax = BatchNormalization()(x_parallax)\n",
    "    x_parallax = MaxPooling1D(pool_size=2)(x_parallax)\n",
    "    \n",
    "    x_parallax = Conv1D(filters=4, kernel_size=3, activation='relu')(x_parallax)\n",
    "    x_parallax = BatchNormalization()(x_parallax)\n",
    "    x_parallax = MaxPooling1D(pool_size=2)(x_parallax)\n",
    "    \n",
    "    x_parallax = Flatten()(x_parallax)\n",
    "    x_parallax = Dense(128, activation='relu')(x_parallax) \n",
    "    x_parallax = Dense(64, activation='relu')(x_parallax) \n",
    "    x_parallax = Dense(32, activation='relu')(x_parallax)\n",
    "    x_parallax = Dense(units, activation='softplus', name=\"pseudo-lum\")(x_parallax) \n",
    "      \n",
    "    #OFFSET CORRECTION : (optimization)\n",
    "    inputs_offset = Input(shape=(3,), name=\"offset-input\")\n",
    "    x_offset = Dense(64, activation='relu')(inputs_offset)\n",
    "    x_offset = Dense(32, activation='relu')(x_offset) \n",
    "    x_offset = Dense(units, activation='tanh', name=\"offset\")(x_offset) \n",
    "    \n",
    "    #Functions\n",
    "    outputs_parallax = Lambda(lambda function: tf.math.multiply(function[0], tf.math.pow(10., \n",
    "                              tf.math.multiply(-0.2, function[1]))),\n",
    "                              name='parallax')([x_parallax, inputs_mag])\n",
    "    \n",
    "    outputs_parallax_with_offset = Lambda(lambda function: tf.math.add(function[0], function[1]),\n",
    "                                          name=\"sum-parallax-offset\")([outputs_parallax, x_offset]) \n",
    "    \n",
    "    #Model setup\n",
    "    model =  Model(inputs = [inputs_spectra,inputs_mag, inputs_offset],outputs = [outputs_parallax_with_offset])\n",
    "    \n",
    "    return model "
   ]
  },
  {
   "cell_type": "markdown",
   "metadata": {},
   "source": [
    "#### Data load "
   ]
  },
  {
   "cell_type": "code",
   "execution_count": 3,
   "metadata": {},
   "outputs": [],
   "source": [
    "# Cargamos los datos\n",
    "path_local_data = '/home/anell/Desktop/Bovy/AnellExercises/Fits_files'\n",
    "#path_local_data = '/home/bapanes/Research-Now/local/astronn-local/apo-gaia/'\n",
    "\n",
    "with h5py.File(f'{path_local_data}/apogeedr14_gaiadr2_with_spectrum_probando_rendimiento_2.h5','r') as F:  \n",
    "    parallax = np.array(F['parallax'])\n",
    "    parallax_error = np.array(F['parallax_err'])\n",
    "    spectra = np.array(F['spectra'])\n",
    "    Kmag = np.array(F['corrected_magnitude_K'])\n",
    "    bp_rp = np.array(F['bp_rp'])\n",
    "    Gmag = np.array(F['phot_g_mean_mag'])\n",
    "    teff = np.array(F['NN_teff'])\n",
    "    apogee_id = np.array(F['APOGEE_ID'])\n",
    "    snr = np.array(F['SNR'])\n",
    "    fe_h = np.array(F['Fe/H'])\n",
    "    path_spectra = np.array(F['Path_spectra'])"
   ]
  },
  {
   "cell_type": "code",
   "execution_count": 4,
   "metadata": {},
   "outputs": [
    {
     "data": {
      "text/plain": [
       "((60986,), (60986, 7514), (60986,))"
      ]
     },
     "execution_count": 4,
     "metadata": {},
     "output_type": "execute_result"
    }
   ],
   "source": [
    "parallax.shape , spectra.shape , Kmag.shape"
   ]
  },
  {
   "cell_type": "code",
   "execution_count": 9,
   "metadata": {},
   "outputs": [],
   "source": [
    "#Establecemos las variables que entrarán a la red y corregimos sus dimensiones\n",
    "X = np.expand_dims(spectra, axis = 2)\n",
    "Y = np.expand_dims(parallax, axis = 1)\n",
    "K_mag = np.expand_dims(Kmag, axis = 1)\n",
    "\n",
    "# Normalizamos Gmag , el color (G_bp - G_rp) y teff\n",
    "Gmag_std = np.std(Gmag)\n",
    "Gmag_mean = np.mean(Gmag)\n",
    "Gmag_norm = (Gmag - Gmag_mean) / Gmag_std\n",
    "\n",
    "bp_rp_std = np.std(bp_rp)\n",
    "bp_rp_mean = np.mean(bp_rp)\n",
    "bp_rp_norm = (bp_rp - bp_rp_mean) / bp_rp_std\n",
    "\n",
    "teff_std = np.std(teff)\n",
    "teff_mean = np.mean(teff)\n",
    "teff_norm = (teff - teff_mean) / teff_std\n",
    "\n",
    "G_mag = np.expand_dims(Gmag_norm, axis=1)\n",
    "Bp_Rp = np.expand_dims(bp_rp_norm, axis=1)\n",
    "Teff = np.expand_dims(teff_norm, axis=1)\n",
    "\n",
    "X_offset = np.concatenate((G_mag, Bp_Rp , Teff), axis = 1) "
   ]
  },
  {
   "cell_type": "code",
   "execution_count": 10,
   "metadata": {},
   "outputs": [
    {
     "name": "stdout",
     "output_type": "stream",
     "text": [
      "(60986, 7514, 1) (60986, 1) (60986, 1) (60986, 3)\n"
     ]
    }
   ],
   "source": [
    "print(X.shape , Y.shape, K_mag.shape, X_offset.shape)"
   ]
  },
  {
   "cell_type": "markdown",
   "metadata": {},
   "source": [
    "#### SNR cut"
   ]
  },
  {
   "cell_type": "code",
   "execution_count": 11,
   "metadata": {},
   "outputs": [],
   "source": [
    "high_snr_idx = []\n",
    "low_snr_idx = []\n",
    "\n",
    "for i in range(len(snr)):\n",
    "    if snr[i] >= 50:           \n",
    "        high_snr_idx.append(i)\n",
    "    else:\n",
    "        low_snr_idx.append(i)\n",
    "\n",
    "random.seed(10)\n",
    "random.shuffle(high_snr_idx)\n",
    "random.seed(60)\n",
    "random.shuffle(low_snr_idx)"
   ]
  },
  {
   "cell_type": "code",
   "execution_count": 12,
   "metadata": {},
   "outputs": [
    {
     "name": "stdout",
     "output_type": "stream",
     "text": [
      "SNR>50: 59857, else: 1129\n"
     ]
    }
   ],
   "source": [
    "print(\"SNR>50: %d, else: %d\"%(len(high_snr_idx), len(low_snr_idx)))"
   ]
  },
  {
   "cell_type": "markdown",
   "metadata": {},
   "source": [
    "### Diseño Experimental:\n",
    "\n",
    "Consideraré train (0.8) y valid (0.2)\n",
    "\n",
    "train_val_1 $\\rightarrow$  177 (train) + 44 (valid) = 357\n",
    "\n",
    "train_val_2 $\\rightarrow$  400 (train) + 100 (valid) = 500\n",
    "\n",
    "train_val_3 $\\rightarrow$  800 (train) + 200 (valid) = 1000\n",
    "\n",
    "train_val_4 $\\rightarrow$  2400 (train) + 600 (valid) = 8000\n",
    "\n",
    "train_val_5 $\\rightarrow$  6400 (train) + 1600 (valid) = 15000 \n",
    "\n",
    "train_val_6 $\\rightarrow$  12000 (train) + 3000 (valid) = 35000 \n",
    "\n",
    "train_val_7 $\\rightarrow$  22177 (train) + 5594 (valid) = 59857\n",
    "\n",
    "test $\\rightarrow$ 1129"
   ]
  },
  {
   "cell_type": "code",
   "execution_count": 13,
   "metadata": {},
   "outputs": [],
   "source": [
    "X_high_snr = X[high_snr_idx]\n",
    "Y_high_snr = Y[high_snr_idx]\n",
    "K_mag_high_snr = K_mag[high_snr_idx]\n",
    "X_offset_high_snr = X_offset[high_snr_idx]\n",
    "\n",
    "X_low_snr = X[low_snr_idx]\n",
    "Y_low_snr = Y[low_snr_idx]\n",
    "K_mag_low_snr = K_mag[low_snr_idx]\n",
    "X_offset_low_snr = X_offset[low_snr_idx]"
   ]
  },
  {
   "cell_type": "code",
   "execution_count": 14,
   "metadata": {},
   "outputs": [],
   "source": [
    "X_train_val_1 = X_high_snr[:357]\n",
    "Y_train_val_1 = Y_high_snr[:357]\n",
    "K_mag_train_val_1 = K_mag_high_snr[:357]\n",
    "X_offset_train_val_1 = X_offset_high_snr[:357]\n",
    "\n",
    "X_train_val_2 = X_high_snr[357:857]\n",
    "Y_train_val_2 = Y_high_snr[357:857]\n",
    "K_mag_train_val_2 = K_mag_high_snr[357:857]\n",
    "X_offset_train_val_2 = X_offset_high_snr[357:857]\n",
    "\n",
    "X_train_val_3 = X_high_snr[857:1857]\n",
    "Y_train_val_3 = Y_high_snr[857:1857]\n",
    "K_mag_train_val_3 = K_mag_high_snr[857:1857]\n",
    "X_offset_train_val_3 = X_offset_high_snr[857:1857]\n",
    "\n",
    "X_train_val_4 = X_high_snr[1857:9857]\n",
    "Y_train_val_4 = Y_high_snr[1857:9857]\n",
    "K_mag_train_val_4 = K_mag_high_snr[1857:9857]\n",
    "X_offset_train_val_4 = X_offset_high_snr[1857:9857]\n",
    "\n",
    "X_train_val_5 = X_high_snr[9857:24857]\n",
    "Y_train_val_5 = Y_high_snr[9857:24857]\n",
    "K_mag_train_val_5 = K_mag_high_snr[9857:24857]\n",
    "X_offset_train_val_5 = X_offset_high_snr[9857:24857]\n",
    "\n",
    "X_train_val_6 = X_high_snr[24857:]\n",
    "Y_train_val_6 = Y_high_snr[24857:]\n",
    "K_mag_train_val_6 = K_mag_high_snr[24857:]\n",
    "X_offset_train_val_6 = X_offset_high_snr[24857:]\n",
    "\n",
    "X_train_val_7 = X_high_snr\n",
    "Y_train_val_7 = Y_high_snr\n",
    "K_mag_train_val_7 = K_mag_high_snr\n",
    "X_offset_train_val_7 = X_offset_high_snr\n",
    "\n",
    "X_test = X_low_snr\n",
    "Y_test = Y_low_snr\n",
    "K_mag_test = K_mag_low_snr\n",
    "X_offset_test = X_offset_low_snr\n",
    "snr_test = snr[low_snr_idx]"
   ]
  },
  {
   "cell_type": "code",
   "execution_count": 15,
   "metadata": {},
   "outputs": [
    {
     "name": "stdout",
     "output_type": "stream",
     "text": [
      "(357, 1) (500, 1) (1000, 1) (8000, 1) (15000, 1) (35000, 1) (59857, 1) (1129, 1)\n"
     ]
    }
   ],
   "source": [
    "print(Y_train_val_1.shape , Y_train_val_2.shape , Y_train_val_3.shape, Y_train_val_4.shape , \n",
    "      Y_train_val_5.shape,Y_train_val_6.shape ,Y_train_val_7.shape , Y_test.shape)"
   ]
  },
  {
   "cell_type": "markdown",
   "metadata": {},
   "source": [
    "#### Model"
   ]
  },
  {
   "cell_type": "code",
   "execution_count": 16,
   "metadata": {},
   "outputs": [
    {
     "name": "stdout",
     "output_type": "stream",
     "text": [
      "Model: \"model_1\"\n",
      "__________________________________________________________________________________________________\n",
      "Layer (type)                    Output Shape         Param #     Connected to                     \n",
      "==================================================================================================\n",
      "pseudo-lum-input (InputLayer)   (None, 7514, 1)      0                                            \n",
      "__________________________________________________________________________________________________\n",
      "conv1d_1 (Conv1D)               (None, 7512, 2)      8           pseudo-lum-input[0][0]           \n",
      "__________________________________________________________________________________________________\n",
      "batch_normalization_1 (BatchNor (None, 7512, 2)      8           conv1d_1[0][0]                   \n",
      "__________________________________________________________________________________________________\n",
      "max_pooling1d_1 (MaxPooling1D)  (None, 3756, 2)      0           batch_normalization_1[0][0]      \n",
      "__________________________________________________________________________________________________\n",
      "conv1d_2 (Conv1D)               (None, 3754, 4)      28          max_pooling1d_1[0][0]            \n",
      "__________________________________________________________________________________________________\n",
      "batch_normalization_2 (BatchNor (None, 3754, 4)      16          conv1d_2[0][0]                   \n",
      "__________________________________________________________________________________________________\n",
      "max_pooling1d_2 (MaxPooling1D)  (None, 1877, 4)      0           batch_normalization_2[0][0]      \n",
      "__________________________________________________________________________________________________\n",
      "flatten_1 (Flatten)             (None, 7508)         0           max_pooling1d_2[0][0]            \n",
      "__________________________________________________________________________________________________\n",
      "dense_1 (Dense)                 (None, 128)          961152      flatten_1[0][0]                  \n",
      "__________________________________________________________________________________________________\n",
      "dense_2 (Dense)                 (None, 64)           8256        dense_1[0][0]                    \n",
      "__________________________________________________________________________________________________\n",
      "offset-input (InputLayer)       (None, 3)            0                                            \n",
      "__________________________________________________________________________________________________\n",
      "dense_3 (Dense)                 (None, 32)           2080        dense_2[0][0]                    \n",
      "__________________________________________________________________________________________________\n",
      "dense_4 (Dense)                 (None, 64)           256         offset-input[0][0]               \n",
      "__________________________________________________________________________________________________\n",
      "pseudo-lum (Dense)              (None, 1)            33          dense_3[0][0]                    \n",
      "__________________________________________________________________________________________________\n",
      "K_mag (InputLayer)              (None, 1)            0                                            \n",
      "__________________________________________________________________________________________________\n",
      "dense_5 (Dense)                 (None, 32)           2080        dense_4[0][0]                    \n",
      "__________________________________________________________________________________________________\n",
      "parallax (Lambda)               (None, 1)            0           pseudo-lum[0][0]                 \n",
      "                                                                 K_mag[0][0]                      \n",
      "__________________________________________________________________________________________________\n",
      "offset (Dense)                  (None, 1)            33          dense_5[0][0]                    \n",
      "__________________________________________________________________________________________________\n",
      "sum-parallax-offset (Lambda)    (None, 1)            0           parallax[0][0]                   \n",
      "                                                                 offset[0][0]                     \n",
      "==================================================================================================\n",
      "Total params: 973,950\n",
      "Trainable params: 973,938\n",
      "Non-trainable params: 12\n",
      "__________________________________________________________________________________________________\n"
     ]
    }
   ],
   "source": [
    "n_timesteps, n_features = X_train_val_5.shape[1], X_train_val_5.shape[2]\n",
    "\n",
    "Global_model = ApogeeDR14GaiaDR2(n_timesteps , n_features)\n",
    "\n",
    "Global_model.summary()"
   ]
  },
  {
   "cell_type": "code",
   "execution_count": 17,
   "metadata": {
    "scrolled": true
   },
   "outputs": [
    {
     "name": "stdout",
     "output_type": "stream",
     "text": [
      "Train on 12000 samples, validate on 3000 samples\n",
      "Epoch 1/200\n",
      "12000/12000 [==============================] - 11s 952us/step - loss: 813.7715 - mse: 813.7715 - val_loss: 14.0046 - val_mse: 14.0046\n",
      "\n",
      "Epoch 00001: val_loss improved from inf to 14.00464, saving model to /home/anell/Desktop/Bovy/AnellExercises/Good_Models/SNR50//Modelo_1_D5_ReplicaBovy_SNR50_prueba.h5\n",
      "Epoch 2/200\n",
      "12000/12000 [==============================] - 9s 779us/step - loss: 35.8294 - mse: 35.8294 - val_loss: 13.8551 - val_mse: 13.8551\n",
      "\n",
      "Epoch 00002: val_loss improved from 14.00464 to 13.85511, saving model to /home/anell/Desktop/Bovy/AnellExercises/Good_Models/SNR50//Modelo_1_D5_ReplicaBovy_SNR50_prueba.h5\n",
      "Epoch 3/200\n",
      "12000/12000 [==============================] - 10s 803us/step - loss: 24.8177 - mse: 24.8177 - val_loss: 13.7565 - val_mse: 13.7565\n",
      "\n",
      "Epoch 00003: val_loss improved from 13.85511 to 13.75646, saving model to /home/anell/Desktop/Bovy/AnellExercises/Good_Models/SNR50//Modelo_1_D5_ReplicaBovy_SNR50_prueba.h5\n",
      "Epoch 4/200\n",
      "12000/12000 [==============================] - 10s 816us/step - loss: 96.0704 - mse: 96.0704 - val_loss: 16.3009 - val_mse: 16.3009\n",
      "\n",
      "Epoch 00004: val_loss did not improve from 13.75646\n",
      "Epoch 5/200\n",
      "12000/12000 [==============================] - 10s 814us/step - loss: 363.0086 - mse: 363.0087 - val_loss: 13.0349 - val_mse: 13.0349\n",
      "\n",
      "Epoch 00005: val_loss improved from 13.75646 to 13.03491, saving model to /home/anell/Desktop/Bovy/AnellExercises/Good_Models/SNR50//Modelo_1_D5_ReplicaBovy_SNR50_prueba.h5\n",
      "Epoch 6/200\n",
      "12000/12000 [==============================] - 10s 827us/step - loss: 146.9533 - mse: 146.9533 - val_loss: 14.2962 - val_mse: 14.2962\n",
      "\n",
      "Epoch 00006: val_loss did not improve from 13.03491\n",
      "Epoch 7/200\n",
      "12000/12000 [==============================] - 10s 830us/step - loss: 1.9909 - mse: 1.9909 - val_loss: 73.2563 - val_mse: 73.2563\n",
      "\n",
      "Epoch 00007: val_loss did not improve from 13.03491\n",
      "Epoch 8/200\n",
      "12000/12000 [==============================] - 10s 829us/step - loss: 1.2598 - mse: 1.2598 - val_loss: 243.2098 - val_mse: 243.2098\n",
      "\n",
      "Epoch 00008: val_loss did not improve from 13.03491\n",
      "Epoch 9/200\n",
      "12000/12000 [==============================] - 10s 831us/step - loss: 1.0320 - mse: 1.0320 - val_loss: 386.5171 - val_mse: 386.5170\n",
      "\n",
      "Epoch 00009: val_loss did not improve from 13.03491\n",
      "Epoch 10/200\n",
      "12000/12000 [==============================] - 10s 858us/step - loss: 1.0635 - mse: 1.0635 - val_loss: 318.3178 - val_mse: 318.3178\n",
      "\n",
      "Epoch 00010: ReduceLROnPlateau reducing learning rate to 0.0005000000237487257.\n",
      "\n",
      "Epoch 00010: val_loss did not improve from 13.03491\n",
      "Epoch 11/200\n",
      "12000/12000 [==============================] - 10s 832us/step - loss: 1.0212 - mse: 1.0212 - val_loss: 383.0891 - val_mse: 383.0892\n",
      "\n",
      "Epoch 00011: val_loss did not improve from 13.03491\n",
      "Epoch 12/200\n",
      "12000/12000 [==============================] - 11s 937us/step - loss: 0.9211 - mse: 0.9211 - val_loss: 456.0835 - val_mse: 456.0835\n",
      "\n",
      "Epoch 00012: val_loss did not improve from 13.03491\n",
      "Epoch 13/200\n",
      "12000/12000 [==============================] - 9s 777us/step - loss: 0.8077 - mse: 0.8077 - val_loss: 505.8127 - val_mse: 505.8127\n",
      "\n",
      "Epoch 00013: val_loss did not improve from 13.03491\n",
      "Epoch 14/200\n",
      "12000/12000 [==============================] - 10s 794us/step - loss: 0.7261 - mse: 0.7261 - val_loss: 514.7937 - val_mse: 514.7937\n",
      "\n",
      "Epoch 00014: val_loss did not improve from 13.03491\n",
      "Epoch 15/200\n",
      "12000/12000 [==============================] - 10s 865us/step - loss: 0.6753 - mse: 0.6753 - val_loss: 575.0189 - val_mse: 575.0189\n",
      "\n",
      "Epoch 00015: ReduceLROnPlateau reducing learning rate to 0.0002500000118743628.\n",
      "\n",
      "Epoch 00015: val_loss did not improve from 13.03491\n",
      "Epoch 16/200\n",
      "12000/12000 [==============================] - 9s 778us/step - loss: 0.6357 - mse: 0.6357 - val_loss: 584.5260 - val_mse: 584.5260\n",
      "\n",
      "Epoch 00016: val_loss did not improve from 13.03491\n",
      "Epoch 17/200\n",
      "12000/12000 [==============================] - 10s 809us/step - loss: 0.6136 - mse: 0.6136 - val_loss: 577.9963 - val_mse: 577.9964\n",
      "\n",
      "Epoch 00017: val_loss did not improve from 13.03491\n",
      "Epoch 18/200\n",
      "12000/12000 [==============================] - 9s 781us/step - loss: 0.5947 - mse: 0.5947 - val_loss: 580.7743 - val_mse: 580.7744\n",
      "\n",
      "Epoch 00018: val_loss did not improve from 13.03491\n",
      "Epoch 19/200\n",
      "12000/12000 [==============================] - 9s 775us/step - loss: 0.5788 - mse: 0.5788 - val_loss: 582.5722 - val_mse: 582.5723\n",
      "\n",
      "Epoch 00019: val_loss did not improve from 13.03491\n",
      "Epoch 20/200\n",
      "12000/12000 [==============================] - 9s 774us/step - loss: 0.5599 - mse: 0.5599 - val_loss: 598.7026 - val_mse: 598.7025\n",
      "\n",
      "Epoch 00020: ReduceLROnPlateau reducing learning rate to 0.0001250000059371814.\n",
      "\n",
      "Epoch 00020: val_loss did not improve from 13.03491\n",
      "Epoch 21/200\n",
      "12000/12000 [==============================] - 9s 791us/step - loss: 0.5437 - mse: 0.5437 - val_loss: 593.9742 - val_mse: 593.9741\n",
      "\n",
      "Epoch 00021: val_loss did not improve from 13.03491\n",
      "Epoch 22/200\n",
      "12000/12000 [==============================] - 9s 783us/step - loss: 0.5354 - mse: 0.5354 - val_loss: 591.2012 - val_mse: 591.2012\n",
      "\n",
      "Epoch 00022: val_loss did not improve from 13.03491\n",
      "Epoch 23/200\n",
      "12000/12000 [==============================] - 9s 790us/step - loss: 0.5278 - mse: 0.5278 - val_loss: 582.4914 - val_mse: 582.4914\n",
      "\n",
      "Epoch 00023: val_loss did not improve from 13.03491\n",
      "Epoch 24/200\n",
      "12000/12000 [==============================] - 10s 827us/step - loss: 0.5209 - mse: 0.5209 - val_loss: 584.9733 - val_mse: 584.9733\n",
      "\n",
      "Epoch 00024: val_loss did not improve from 13.03491\n",
      "Epoch 25/200\n",
      "12000/12000 [==============================] - 11s 888us/step - loss: 0.5147 - mse: 0.5147 - val_loss: 590.8391 - val_mse: 590.8391\n",
      "\n",
      "Epoch 00025: ReduceLROnPlateau reducing learning rate to 6.25000029685907e-05.\n",
      "\n",
      "Epoch 00025: val_loss did not improve from 13.03491\n",
      "Epoch 26/200\n",
      "12000/12000 [==============================] - 10s 811us/step - loss: 0.5062 - mse: 0.5062 - val_loss: 588.3043 - val_mse: 588.3044\n",
      "\n",
      "Epoch 00026: val_loss did not improve from 13.03491\n",
      "Epoch 27/200\n",
      "12000/12000 [==============================] - 11s 902us/step - loss: 0.5027 - mse: 0.5027 - val_loss: 588.3181 - val_mse: 588.3181\n",
      "\n",
      "Epoch 00027: val_loss did not improve from 13.03491\n",
      "Epoch 28/200\n",
      "12000/12000 [==============================] - 10s 834us/step - loss: 0.4993 - mse: 0.4993 - val_loss: 584.2415 - val_mse: 584.2415\n",
      "\n",
      "Epoch 00028: val_loss did not improve from 13.03491\n",
      "Epoch 29/200\n",
      "12000/12000 [==============================] - 10s 806us/step - loss: 0.4962 - mse: 0.4962 - val_loss: 582.4626 - val_mse: 582.4626\n",
      "\n",
      "Epoch 00029: val_loss did not improve from 13.03491\n",
      "Epoch 30/200\n",
      "12000/12000 [==============================] - 9s 781us/step - loss: 0.4927 - mse: 0.4927 - val_loss: 587.1396 - val_mse: 587.1398\n",
      "\n",
      "Epoch 00030: ReduceLROnPlateau reducing learning rate to 3.125000148429535e-05.\n",
      "\n",
      "Epoch 00030: val_loss did not improve from 13.03491\n",
      "Epoch 31/200\n",
      "12000/12000 [==============================] - 9s 781us/step - loss: 0.4888 - mse: 0.4888 - val_loss: 589.2965 - val_mse: 589.2966\n",
      "\n",
      "Epoch 00031: val_loss did not improve from 13.03491\n",
      "Epoch 32/200\n",
      "12000/12000 [==============================] - 11s 924us/step - loss: 0.4872 - mse: 0.4872 - val_loss: 586.6653 - val_mse: 586.6652\n",
      "\n",
      "Epoch 00032: val_loss did not improve from 13.03491\n",
      "Epoch 33/200\n",
      "12000/12000 [==============================] - 10s 864us/step - loss: 0.4852 - mse: 0.4852 - val_loss: 582.0967 - val_mse: 582.0966\n",
      "\n",
      "Epoch 00033: val_loss did not improve from 13.03491\n",
      "Epoch 34/200\n",
      "12000/12000 [==============================] - 11s 883us/step - loss: 0.4838 - mse: 0.4838 - val_loss: 576.3912 - val_mse: 576.3912\n",
      "\n",
      "Epoch 00034: val_loss did not improve from 13.03491\n",
      "Epoch 35/200\n",
      "12000/12000 [==============================] - 10s 851us/step - loss: 0.4824 - mse: 0.4824 - val_loss: 580.9178 - val_mse: 580.9177\n",
      "\n",
      "Epoch 00035: ReduceLROnPlateau reducing learning rate to 1.5625000742147677e-05.\n",
      "\n",
      "Epoch 00035: val_loss did not improve from 13.03491\n",
      "Epoch 36/200\n",
      "12000/12000 [==============================] - 10s 799us/step - loss: 0.4800 - mse: 0.4800 - val_loss: 585.1691 - val_mse: 585.1691\n",
      "\n",
      "Epoch 00036: val_loss did not improve from 13.03491\n",
      "Epoch 37/200\n"
     ]
    },
    {
     "name": "stdout",
     "output_type": "stream",
     "text": [
      "12000/12000 [==============================] - 9s 774us/step - loss: 0.4791 - mse: 0.4791 - val_loss: 586.1676 - val_mse: 586.1677\n",
      "\n",
      "Epoch 00037: val_loss did not improve from 13.03491\n",
      "Epoch 38/200\n",
      "12000/12000 [==============================] - 10s 795us/step - loss: 0.4784 - mse: 0.4784 - val_loss: 585.2159 - val_mse: 585.2159\n",
      "\n",
      "Epoch 00038: val_loss did not improve from 13.03491\n",
      "Epoch 39/200\n",
      "12000/12000 [==============================] - 9s 774us/step - loss: 0.4775 - mse: 0.4775 - val_loss: 589.8594 - val_mse: 589.8594\n",
      "\n",
      "Epoch 00039: val_loss did not improve from 13.03491\n",
      "Epoch 40/200\n",
      "12000/12000 [==============================] - 10s 812us/step - loss: 0.4766 - mse: 0.4766 - val_loss: 589.0441 - val_mse: 589.0441\n",
      "\n",
      "Epoch 00040: ReduceLROnPlateau reducing learning rate to 7.812500371073838e-06.\n",
      "\n",
      "Epoch 00040: val_loss did not improve from 13.03491\n",
      "Epoch 41/200\n",
      "12000/12000 [==============================] - 10s 840us/step - loss: 0.4756 - mse: 0.4756 - val_loss: 584.6866 - val_mse: 584.6866\n",
      "\n",
      "Epoch 00041: val_loss did not improve from 13.03491\n",
      "Epoch 42/200\n",
      "12000/12000 [==============================] - 10s 814us/step - loss: 0.4753 - mse: 0.4753 - val_loss: 585.3768 - val_mse: 585.3768\n",
      "\n",
      "Epoch 00042: val_loss did not improve from 13.03491\n",
      "Epoch 43/200\n",
      "12000/12000 [==============================] - 10s 793us/step - loss: 0.4746 - mse: 0.4746 - val_loss: 578.9597 - val_mse: 578.9597\n",
      "\n",
      "Epoch 00043: val_loss did not improve from 13.03491\n",
      "Epoch 44/200\n",
      "12000/12000 [==============================] - 10s 813us/step - loss: 0.4742 - mse: 0.4742 - val_loss: 583.1923 - val_mse: 583.1924\n",
      "\n",
      "Epoch 00044: val_loss did not improve from 13.03491\n",
      "Epoch 45/200\n",
      "12000/12000 [==============================] - 9s 772us/step - loss: 0.4740 - mse: 0.4740 - val_loss: 588.5185 - val_mse: 588.5185\n",
      "\n",
      "Epoch 00045: ReduceLROnPlateau reducing learning rate to 3.906250185536919e-06.\n",
      "\n",
      "Epoch 00045: val_loss did not improve from 13.03491\n",
      "Epoch 46/200\n",
      "12000/12000 [==============================] - 9s 791us/step - loss: 0.4732 - mse: 0.4732 - val_loss: 590.3874 - val_mse: 590.3875\n",
      "\n",
      "Epoch 00046: val_loss did not improve from 13.03491\n",
      "Epoch 47/200\n",
      "12000/12000 [==============================] - 11s 884us/step - loss: 0.4730 - mse: 0.4730 - val_loss: 589.8312 - val_mse: 589.8312\n",
      "\n",
      "Epoch 00047: val_loss did not improve from 13.03491\n",
      "Epoch 48/200\n",
      "12000/12000 [==============================] - 11s 955us/step - loss: 0.4728 - mse: 0.4728 - val_loss: 580.8518 - val_mse: 580.8518\n",
      "\n",
      "Epoch 00048: val_loss did not improve from 13.03491\n",
      "Epoch 49/200\n",
      "12000/12000 [==============================] - 11s 905us/step - loss: 0.4725 - mse: 0.4725 - val_loss: 584.0285 - val_mse: 584.0285\n",
      "\n",
      "Epoch 00049: val_loss did not improve from 13.03491\n",
      "Epoch 50/200\n",
      "12000/12000 [==============================] - 11s 892us/step - loss: 0.4722 - mse: 0.4722 - val_loss: 579.5121 - val_mse: 579.5121\n",
      "\n",
      "Epoch 00050: ReduceLROnPlateau reducing learning rate to 1.9531250927684596e-06.\n",
      "\n",
      "Epoch 00050: val_loss did not improve from 13.03491\n",
      "Epoch 51/200\n",
      "12000/12000 [==============================] - 10s 848us/step - loss: 0.4720 - mse: 0.4720 - val_loss: 577.1112 - val_mse: 577.1113\n",
      "\n",
      "Epoch 00051: val_loss did not improve from 13.03491\n",
      "Epoch 52/200\n",
      "12000/12000 [==============================] - 11s 920us/step - loss: 0.4718 - mse: 0.4718 - val_loss: 576.8241 - val_mse: 576.8240\n",
      "\n",
      "Epoch 00052: val_loss did not improve from 13.03491\n",
      "Epoch 53/200\n",
      "12000/12000 [==============================] - 10s 817us/step - loss: 0.4717 - mse: 0.4717 - val_loss: 581.6068 - val_mse: 581.6068\n",
      "\n",
      "Epoch 00053: val_loss did not improve from 13.03491\n",
      "Epoch 54/200\n",
      "12000/12000 [==============================] - 11s 919us/step - loss: 0.4716 - mse: 0.4716 - val_loss: 587.0775 - val_mse: 587.0775\n",
      "\n",
      "Epoch 00054: val_loss did not improve from 13.03491\n",
      "Epoch 55/200\n",
      "12000/12000 [==============================] - 11s 887us/step - loss: 0.4715 - mse: 0.4715 - val_loss: 583.3185 - val_mse: 583.3184\n",
      "\n",
      "Epoch 00055: ReduceLROnPlateau reducing learning rate to 9.765625463842298e-07.\n",
      "\n",
      "Epoch 00055: val_loss did not improve from 13.03491\n",
      "Epoch 00055: early stopping\n"
     ]
    },
    {
     "data": {
      "text/plain": [
       "<keras.callbacks.callbacks.History at 0x7f522c5bad10>"
      ]
     },
     "execution_count": 17,
     "metadata": {},
     "output_type": "execute_result"
    }
   ],
   "source": [
    "Global_model.compile(optimizer='adam', loss='mse', metrics=['mse'])\n",
    "\n",
    "path_local = \"/home/anell/Desktop/Bovy/AnellExercises/Good_Models/SNR50/\"\n",
    "\n",
    "earlystopper = EarlyStopping(monitor='val_loss', patience=50, verbose=1, min_delta=1e-7)\n",
    "checkpoint = ModelCheckpoint(f'{path_local}/Modelo_1_D5_ReplicaBovy_SNR50.h5', monitor='val_loss', \n",
    "                             verbose=1, save_best_only=True)\n",
    "reduce_lr = ReduceLROnPlateau(monitor='val_loss', factor=0.5, verbose=1, patience=5, min_lr=0.000000001)\n",
    "\n",
    "callbacks=[reduce_lr, checkpoint, earlystopper]\n",
    "\n",
    "Global_model.fit([X_train_val_5, K_mag_train_val_5, X_offset_train_val_5], Y_train_val_5, callbacks=callbacks,\n",
    "                 epochs=200, batch_size=128, verbose=1, shuffle=\"batch\", validation_split=0.2)\n"
   ]
  },
  {
   "cell_type": "markdown",
   "metadata": {},
   "source": [
    "#### simple evaluations on test sample (SNR < 50)"
   ]
  },
  {
   "cell_type": "code",
   "execution_count": 18,
   "metadata": {},
   "outputs": [
    {
     "name": "stdout",
     "output_type": "stream",
     "text": [
      "1129/1129 [==============================] - 0s 342us/step\n"
     ]
    }
   ],
   "source": [
    "J_test , mse_test = Global_model.evaluate([X_test, K_mag_test , X_offset_test], Y_test)"
   ]
  },
  {
   "cell_type": "code",
   "execution_count": 19,
   "metadata": {},
   "outputs": [
    {
     "name": "stdout",
     "output_type": "stream",
     "text": [
      "4.91263245417018 4.912633419036865\n"
     ]
    }
   ],
   "source": [
    "print(J_test,mse_test)"
   ]
  },
  {
   "cell_type": "code",
   "execution_count": 17,
   "metadata": {},
   "outputs": [],
   "source": [
    "pred = Global_model.predict([X_test, K_mag_test , X_offset_test])"
   ]
  },
  {
   "cell_type": "code",
   "execution_count": 18,
   "metadata": {},
   "outputs": [],
   "source": [
    "target = Y_test"
   ]
  },
  {
   "cell_type": "code",
   "execution_count": 19,
   "metadata": {},
   "outputs": [
    {
     "data": {
      "image/png": "[encoded data removed]",
      "text/plain": [
       "<Figure size 432x288 with 1 Axes>"
      ]
     },
     "metadata": {
      "needs_background": "light"
     },
     "output_type": "display_data"
    }
   ],
   "source": [
    "plt.scatter(target, pred, c=\"g\", alpha=0.5)\n",
    "\n",
    "plt.xlabel(\"target\")\n",
    "plt.ylabel(\"pred\")\n",
    "\n",
    "#plt.ylim(0,100)\n",
    "#plt.xlim(0,100)\n",
    "plt.show()"
   ]
  },
  {
   "cell_type": "code",
   "execution_count": null,
   "metadata": {},
   "outputs": [],
   "source": []
  }
 ],
 "metadata": {
  "kernelspec": {
   "display_name": "Python 3",
   "language": "python",
   "name": "python3"
  },
  "language_info": {
   "codemirror_mode": {
    "name": "ipython",
    "version": 3
   },
   "file_extension": ".py",
   "mimetype": "text/x-python",
   "name": "python",
   "nbconvert_exporter": "python",
   "pygments_lexer": "ipython3",
   "version": "3.7.7"
  }
 },
 "nbformat": 4,
 "nbformat_minor": 4
}
