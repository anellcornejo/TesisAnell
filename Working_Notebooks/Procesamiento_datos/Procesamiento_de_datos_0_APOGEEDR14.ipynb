{
 "cells": [
  {
   "cell_type": "markdown",
   "metadata": {},
   "source": [
    "Match entre los datos del dr14 de APOGEE y dr2 de Gaia"
   ]
  },
  {
   "cell_type": "code",
   "execution_count": 1,
   "metadata": {},
   "outputs": [
    {
     "name": "stdout",
     "output_type": "stream",
     "text": [
      "Created TAP+ (v1.2.1) - Connection:\n",
      "\tHost: gea.esac.esa.int\n",
      "\tUse HTTPS: True\n",
      "\tPort: 443\n",
      "\tSSL Port: 443\n",
      "Created TAP+ (v1.2.1) - Connection:\n",
      "\tHost: geadata.esac.esa.int\n",
      "\tUse HTTPS: True\n",
      "\tPort: 443\n",
      "\tSSL Port: 443\n"
     ]
    }
   ],
   "source": [
    "from astropy.io import fits\n",
    "import numpy as np\n",
    "import gaia_tools.xmatch\n",
    "from gaia_tools import query\n",
    "from astropy.table import Table\n",
    "import astropy.coordinates as acoords\n",
    "from astropy import units as u\n",
    "import matplotlib.pyplot as plt\n",
    "from astroNN.gaia import extinction_correction\n",
    "from astroNN.apogee import allstar, visit_spectra\n",
    "from astroNN.apogee.chips import apogee_continuum\n",
    "import pandas as pd"
   ]
  },
  {
   "cell_type": "code",
   "execution_count": 2,
   "metadata": {},
   "outputs": [],
   "source": [
    "apogeedr14 = fits.getdata(\"/home/anell/Desktop/Bovy/Apogee-Spectra/dr14/allStar-l31c.2.fits\")"
   ]
  },
  {
   "cell_type": "code",
   "execution_count": null,
   "metadata": {},
   "outputs": [
    {
     "name": "stdout",
     "output_type": "stream",
     "text": [
      "                                                                                \r"
     ]
    }
   ],
   "source": [
    "gaia_matches, matches_indx = gaia_tools.xmatch.cds(apogeedr14, colRA='ra', colDec='dec', xcat='vizier:I/345/gaia2', gaia_all_columns=True)"
   ]
  },
  {
   "cell_type": "code",
   "execution_count": null,
   "metadata": {},
   "outputs": [],
   "source": [
    "len(matches_indx),len(gaia_matches), len(apogeedr14)"
   ]
  },
  {
   "cell_type": "code",
   "execution_count": null,
   "metadata": {},
   "outputs": [],
   "source": [
    "gaia_matches.remove_columns(['datalink_url', 'epoch_photometry_url', 'designation', 'phot_variable_flag'])\n",
    "\n",
    "pandat = gaia_matches.filled(fill_value=-9999.).to_pandas()  # llena los espacios con -9999. \n",
    "t2 = Table.from_pandas(pandat)\n",
    "t2.write('/home/anell/Desktop/Bovy/AnellExercises/match_gaia_apogee/apogeedr14_gaiadr_xmatch_allcolumns.fits')"
   ]
  }
 ],
 "metadata": {
  "kernelspec": {
   "display_name": "Python 3",
   "language": "python",
   "name": "python3"
  },
  "language_info": {
   "codemirror_mode": {
    "name": "ipython",
    "version": 3
   },
   "file_extension": ".py",
   "mimetype": "text/x-python",
   "name": "python",
   "nbconvert_exporter": "python",
   "pygments_lexer": "ipython3",
   "version": "3.7.7"
  }
 },
 "nbformat": 4,
 "nbformat_minor": 4
}
